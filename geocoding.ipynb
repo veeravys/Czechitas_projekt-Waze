{
 "cells": [
  {
   "cell_type": "code",
   "execution_count": 1,
   "metadata": {},
   "outputs": [],
   "source": [
    "import pandas as pd\n",
    "import numpy as np\n",
    "import ast\n",
    "import geopy.geocoders\n",
    "from geopy.geocoders import Nominatim\n",
    "from geopy.extra.rate_limiter import RateLimiter"
   ]
  },
  {
   "cell_type": "markdown",
   "metadata": {},
   "source": [
    "## Geocoding - 2. kolo (RateLimiter 1.souřadnice) a 3. kolo (RateLimiter poslední souřadnice)"
   ]
  },
  {
   "cell_type": "markdown",
   "metadata": {},
   "source": [
    "2.kolo - načtení souboru po prvním kole přiřazování názvů ulic po Hackatonu (4835 řádků,z toho 996 stále nepřiřazeno)"
   ]
  },
  {
   "cell_type": "code",
   "execution_count": 2,
   "metadata": {},
   "outputs": [
    {
     "data": {
      "text/html": [
       "<div>\n",
       "<style scoped>\n",
       "    .dataframe tbody tr th:only-of-type {\n",
       "        vertical-align: middle;\n",
       "    }\n",
       "\n",
       "    .dataframe tbody tr th {\n",
       "        vertical-align: top;\n",
       "    }\n",
       "\n",
       "    .dataframe thead th {\n",
       "        text-align: right;\n",
       "    }\n",
       "</style>\n",
       "<table border=\"1\" class=\"dataframe\">\n",
       "  <thead>\n",
       "    <tr style=\"text-align: right;\">\n",
       "      <th></th>\n",
       "      <th>Unnamed: 0</th>\n",
       "      <th>uuid</th>\n",
       "      <th>firstCoord</th>\n",
       "      <th>missingStreet</th>\n",
       "    </tr>\n",
       "  </thead>\n",
       "  <tbody>\n",
       "    <tr>\n",
       "      <th>0</th>\n",
       "      <td>1</td>\n",
       "      <td>1388730276</td>\n",
       "      <td>[16.567145, 49.171995]</td>\n",
       "      <td>Labská</td>\n",
       "    </tr>\n",
       "    <tr>\n",
       "      <th>1</th>\n",
       "      <td>4</td>\n",
       "      <td>1440208034</td>\n",
       "      <td>[16.565195, 49.168989]</td>\n",
       "      <td>Okrouhlá</td>\n",
       "    </tr>\n",
       "    <tr>\n",
       "      <th>2</th>\n",
       "      <td>5</td>\n",
       "      <td>1370182069</td>\n",
       "      <td>[16.567319, 49.17172]</td>\n",
       "      <td>Labská</td>\n",
       "    </tr>\n",
       "    <tr>\n",
       "      <th>3</th>\n",
       "      <td>6</td>\n",
       "      <td>1415306095</td>\n",
       "      <td>[16.565247, 49.169382]</td>\n",
       "      <td>['Starý Lískovec', ' Brno', ' okres Brno-město...</td>\n",
       "    </tr>\n",
       "    <tr>\n",
       "      <th>4</th>\n",
       "      <td>8</td>\n",
       "      <td>1415188035</td>\n",
       "      <td>[16.565195, 49.168989]</td>\n",
       "      <td>Okrouhlá</td>\n",
       "    </tr>\n",
       "  </tbody>\n",
       "</table>\n",
       "</div>"
      ],
      "text/plain": [
       "   Unnamed: 0        uuid              firstCoord  \\\n",
       "0           1  1388730276  [16.567145, 49.171995]   \n",
       "1           4  1440208034  [16.565195, 49.168989]   \n",
       "2           5  1370182069   [16.567319, 49.17172]   \n",
       "3           6  1415306095  [16.565247, 49.169382]   \n",
       "4           8  1415188035  [16.565195, 49.168989]   \n",
       "\n",
       "                                       missingStreet  \n",
       "0                                             Labská  \n",
       "1                                           Okrouhlá  \n",
       "2                                             Labská  \n",
       "3  ['Starý Lískovec', ' Brno', ' okres Brno-město...  \n",
       "4                                           Okrouhlá  "
      ]
     },
     "execution_count": 2,
     "metadata": {},
     "output_type": "execute_result"
    }
   ],
   "source": [
    "missingDf = pd.read_csv('missing_streets.csv')\n",
    "missingDf.head()"
   ]
  },
  {
   "cell_type": "code",
   "execution_count": 3,
   "metadata": {},
   "outputs": [
    {
     "data": {
      "text/plain": [
       "str"
      ]
     },
     "execution_count": 3,
     "metadata": {},
     "output_type": "execute_result"
    }
   ],
   "source": [
    "type(missingDf['firstCoord'][3])"
   ]
  },
  {
   "cell_type": "markdown",
   "metadata": {},
   "source": [
    "převod souřadnic ze string na seznam"
   ]
  },
  {
   "cell_type": "code",
   "execution_count": 4,
   "metadata": {
    "scrolled": true
   },
   "outputs": [
    {
     "data": {
      "text/plain": [
       "[[5, 1370182069, '[16.567319, 49.17172]', 'Labská'],\n",
       " [6,\n",
       "  1415306095,\n",
       "  '[16.565247, 49.169382]',\n",
       "  \"['Starý Lískovec', ' Brno', ' okres Brno-město', ' Jihomoravský kraj', ' Jihovýchod', ' 62500', ' Česká republika']\"]]"
      ]
     },
     "execution_count": 4,
     "metadata": {},
     "output_type": "execute_result"
    }
   ],
   "source": [
    "missingList = missingDf.values.tolist() #převod na list kvůli násled. list compr.\n",
    "missingList[2:4]"
   ]
  },
  {
   "cell_type": "code",
   "execution_count": 5,
   "metadata": {
    "scrolled": true
   },
   "outputs": [
    {
     "data": {
      "text/plain": [
       "[[16.565195, 49.168989],\n",
       " [16.567319, 49.17172],\n",
       " [16.565247, 49.169382],\n",
       " [16.565195, 49.168989]]"
      ]
     },
     "execution_count": 5,
     "metadata": {},
     "output_type": "execute_result"
    }
   ],
   "source": [
    "souradnice2 = [ast.literal_eval(coord[2]) for coord in missingList] #vytvoření seznamu seznamu souřadnic\n",
    "souradnice2[1:5]"
   ]
  },
  {
   "cell_type": "markdown",
   "metadata": {},
   "source": [
    "přiřazení názvů názvů ulic - metoda RateLimiter"
   ]
  },
  {
   "cell_type": "code",
   "execution_count": 6,
   "metadata": {},
   "outputs": [],
   "source": [
    "geopy.geocoders.options.default_user_agent = 'Mozilla/5.0'\n",
    "geolocator = Nominatim()"
   ]
  },
  {
   "cell_type": "code",
   "execution_count": 7,
   "metadata": {},
   "outputs": [],
   "source": [
    "streetList = [] #doplněný seznam pomocí násled.cyklu (pozor běží cca 1,5h),"
   ]
  },
  {
   "cell_type": "code",
   "execution_count": null,
   "metadata": {
    "scrolled": false
   },
   "outputs": [],
   "source": [
    "for i in range(0,len(souradnice2)):\n",
    "    reverse = RateLimiter(geolocator.reverse, min_delay_seconds = 1)\n",
    "    location = reverse([souradnice2[i][1],souradnice2[i][0]], language = 'cz')#pozor potřeba otočit pořadí souřadnic\n",
    "    if 'road' in location.raw['address']:\n",
    "        name = location.raw['address']['road']\n",
    "    elif 'suburb' in location.raw['address']:\n",
    "        suburb = location.raw['address']['suburb']\n",
    "        municip = location.raw['address']['municipality']\n",
    "        name = suburb+','+municip\n",
    "    else:\n",
    "        suburb = 'missing'\n",
    "        municip = location.raw['address']['municipality']\n",
    "        name = suburb+','+municip\n",
    "    streetList.append(name)"
   ]
  },
  {
   "cell_type": "markdown",
   "metadata": {},
   "source": [
    "přidání sloupce street2 do tabulky missingdF, uložení jako missing_streets2.csv, "
   ]
  },
  {
   "cell_type": "code",
   "execution_count": null,
   "metadata": {},
   "outputs": [],
   "source": [
    "missingDf['street2'] = streetList\n",
    "missingDf.to_csv('missing_streets2.csv')"
   ]
  },
  {
   "cell_type": "markdown",
   "metadata": {},
   "source": [
    "Import do MS SQL Server Management Studia, zde výběr chybějících hodnot do view missing2,následně znovu načtení do jupyter a stejné zpracování, tentokrát pro souřadnici první od konce (pro její získání nutno načíst původní tabulku plynulost)"
   ]
  },
  {
   "cell_type": "markdown",
   "metadata": {},
   "source": [
    "3. kolo přiřazení chybějících názvů: "
   ]
  },
  {
   "cell_type": "markdown",
   "metadata": {},
   "source": [
    "Načtení původního souboru, odmazání sloupce type, přejmenování názvů sloupců"
   ]
  },
  {
   "cell_type": "code",
   "execution_count": 8,
   "metadata": {},
   "outputs": [],
   "source": [
    "trafficDelaysDf = pd.read_csv('C:/Users/verav/Documents/Projekt/Python_projekt/plynulostVSE.csv')"
   ]
  },
  {
   "cell_type": "code",
   "execution_count": 9,
   "metadata": {},
   "outputs": [],
   "source": [
    "trafficDelaysDf = trafficDelaysDf.drop(columns = ['type'])\n",
    "trafficDelaysDf.columns = trafficDelaysDf.columns.str.replace('properties.','')\n",
    "trafficDelaysDf= trafficDelaysDf.rename(columns={'geometry.type':'coordType'})\n",
    "trafficDelaysDf= trafficDelaysDf.rename(columns={'geometry.coordinates':'coordinates'})"
   ]
  },
  {
   "cell_type": "markdown",
   "metadata": {},
   "source": [
    "převod souřadnic ze str na seznam seznamů"
   ]
  },
  {
   "cell_type": "code",
   "execution_count": 10,
   "metadata": {},
   "outputs": [],
   "source": [
    "coordList = []\n",
    "for i in trafficDelaysDf.index:\n",
    "    nestList = ast.literal_eval(trafficDelaysDf[\"coordinates\"][i])\n",
    "    coordList.append(nestList)\n",
    "trafficDelaysDf2 = trafficDelaysDf.copy() #tvorba kopie původní tabulky\n",
    "trafficDelaysDf2['coordinates']=coordList #náhrada původního sloupce coordinates"
   ]
  },
  {
   "cell_type": "markdown",
   "metadata": {},
   "source": [
    "kopie tabulky a vymazání nepotřebných sloupců"
   ]
  },
  {
   "cell_type": "code",
   "execution_count": 11,
   "metadata": {},
   "outputs": [
    {
     "data": {
      "text/html": [
       "<div>\n",
       "<style scoped>\n",
       "    .dataframe tbody tr th:only-of-type {\n",
       "        vertical-align: middle;\n",
       "    }\n",
       "\n",
       "    .dataframe tbody tr th {\n",
       "        vertical-align: top;\n",
       "    }\n",
       "\n",
       "    .dataframe thead th {\n",
       "        text-align: right;\n",
       "    }\n",
       "</style>\n",
       "<table border=\"1\" class=\"dataframe\">\n",
       "  <thead>\n",
       "    <tr style=\"text-align: right;\">\n",
       "      <th></th>\n",
       "      <th>uuid</th>\n",
       "      <th>street</th>\n",
       "      <th>coordType</th>\n",
       "      <th>coordinates</th>\n",
       "    </tr>\n",
       "  </thead>\n",
       "  <tbody>\n",
       "    <tr>\n",
       "      <th>0</th>\n",
       "      <td>1363839630</td>\n",
       "      <td>» Centrum / Bohunice</td>\n",
       "      <td>LineString</td>\n",
       "      <td>[[16.558271, 49.171838], [16.558371, 49.17184]...</td>\n",
       "    </tr>\n",
       "    <tr>\n",
       "      <th>1</th>\n",
       "      <td>1388730276</td>\n",
       "      <td>NaN</td>\n",
       "      <td>LineString</td>\n",
       "      <td>[[16.567145, 49.171995], [16.567112, 49.171732...</td>\n",
       "    </tr>\n",
       "    <tr>\n",
       "      <th>2</th>\n",
       "      <td>1451737922</td>\n",
       "      <td>U Dráhy</td>\n",
       "      <td>LineString</td>\n",
       "      <td>[[16.544367, 49.16387], [16.544937, 49.163597]]</td>\n",
       "    </tr>\n",
       "    <tr>\n",
       "      <th>3</th>\n",
       "      <td>1388985166</td>\n",
       "      <td>Na Hrázi</td>\n",
       "      <td>LineString</td>\n",
       "      <td>[[16.501287, 49.153107], [16.501311, 49.153273]]</td>\n",
       "    </tr>\n",
       "    <tr>\n",
       "      <th>4</th>\n",
       "      <td>1440208034</td>\n",
       "      <td>NaN</td>\n",
       "      <td>LineString</td>\n",
       "      <td>[[16.565195, 49.168989], [16.565247, 49.169382]]</td>\n",
       "    </tr>\n",
       "  </tbody>\n",
       "</table>\n",
       "</div>"
      ],
      "text/plain": [
       "         uuid                street   coordType  \\\n",
       "0  1363839630  » Centrum / Bohunice  LineString   \n",
       "1  1388730276                   NaN  LineString   \n",
       "2  1451737922               U Dráhy  LineString   \n",
       "3  1388985166              Na Hrázi  LineString   \n",
       "4  1440208034                   NaN  LineString   \n",
       "\n",
       "                                         coordinates  \n",
       "0  [[16.558271, 49.171838], [16.558371, 49.17184]...  \n",
       "1  [[16.567145, 49.171995], [16.567112, 49.171732...  \n",
       "2    [[16.544367, 49.16387], [16.544937, 49.163597]]  \n",
       "3   [[16.501287, 49.153107], [16.501311, 49.153273]]  \n",
       "4   [[16.565195, 49.168989], [16.565247, 49.169382]]  "
      ]
     },
     "execution_count": 11,
     "metadata": {},
     "output_type": "execute_result"
    }
   ],
   "source": [
    "#trafficDelaysDf2.columns\n",
    "trafficCoord2Df = trafficDelaysDf2.copy()\n",
    "trafficCoord2Df = trafficCoord2Df.drop(columns = ['pubMillis','level','delay','speed','speedKMH', 'length','endNode', 'city', 'country', 'type', 'roadType', 'turnType',\n",
    "       'blockingAlertUuid', 'objectid', 'globalid'])\n",
    "trafficCoord2Df.head()"
   ]
  },
  {
   "cell_type": "markdown",
   "metadata": {},
   "source": [
    "načtení výběru chybějících hodnot z SQL (884 stále nepřiřazených - doplněna pouze městská část; okres)"
   ]
  },
  {
   "cell_type": "code",
   "execution_count": 13,
   "metadata": {},
   "outputs": [],
   "source": [
    "missing2SQLdf = pd.read_csv('missing2SQL.csv', encoding = 'UTF-8') #načtení chybejicich ulic z sql"
   ]
  },
  {
   "cell_type": "code",
   "execution_count": 75,
   "metadata": {},
   "outputs": [
    {
     "data": {
      "text/html": [
       "<div>\n",
       "<style scoped>\n",
       "    .dataframe tbody tr th:only-of-type {\n",
       "        vertical-align: middle;\n",
       "    }\n",
       "\n",
       "    .dataframe tbody tr th {\n",
       "        vertical-align: top;\n",
       "    }\n",
       "\n",
       "    .dataframe thead th {\n",
       "        text-align: right;\n",
       "    }\n",
       "</style>\n",
       "<table border=\"1\" class=\"dataframe\">\n",
       "  <thead>\n",
       "    <tr style=\"text-align: right;\">\n",
       "      <th></th>\n",
       "      <th>uuid</th>\n",
       "      <th>firstCoord</th>\n",
       "      <th>streets2</th>\n",
       "    </tr>\n",
       "  </thead>\n",
       "  <tbody>\n",
       "    <tr>\n",
       "      <th>0</th>\n",
       "      <td>1415306095</td>\n",
       "      <td>[16.565247; 49.169382]</td>\n",
       "      <td>Starý Lískovec;okres Brno-město</td>\n",
       "    </tr>\n",
       "    <tr>\n",
       "      <th>1</th>\n",
       "      <td>1337977851</td>\n",
       "      <td>[16.636833; 49.184715]</td>\n",
       "      <td>Černovice;okres Brno-město</td>\n",
       "    </tr>\n",
       "    <tr>\n",
       "      <th>2</th>\n",
       "      <td>1415181365</td>\n",
       "      <td>[16.584055; 49.151261]</td>\n",
       "      <td>Moravany u Brna;okres Brno-venkov</td>\n",
       "    </tr>\n",
       "    <tr>\n",
       "      <th>3</th>\n",
       "      <td>1531488523</td>\n",
       "      <td>[16.636232; 49.203183]</td>\n",
       "      <td>Židenice;okres Brno-město</td>\n",
       "    </tr>\n",
       "    <tr>\n",
       "      <th>4</th>\n",
       "      <td>1440329274</td>\n",
       "      <td>[16.583742; 49.151054]</td>\n",
       "      <td>Moravany u Brna;okres Brno-venkov</td>\n",
       "    </tr>\n",
       "  </tbody>\n",
       "</table>\n",
       "</div>"
      ],
      "text/plain": [
       "         uuid              firstCoord                           streets2\n",
       "0  1415306095  [16.565247; 49.169382]    Starý Lískovec;okres Brno-město\n",
       "1  1337977851  [16.636833; 49.184715]         Černovice;okres Brno-město\n",
       "2  1415181365  [16.584055; 49.151261]  Moravany u Brna;okres Brno-venkov\n",
       "3  1531488523  [16.636232; 49.203183]          Židenice;okres Brno-město\n",
       "4  1440329274  [16.583742; 49.151054]  Moravany u Brna;okres Brno-venkov"
      ]
     },
     "execution_count": 75,
     "metadata": {},
     "output_type": "execute_result"
    }
   ],
   "source": [
    "missing2SQLdf.head()"
   ]
  },
  {
   "cell_type": "markdown",
   "metadata": {},
   "source": [
    "tabulka trafficCoordMiss - podle uuid se propoji puvodni tabulka a tab.sql, vznikne tab. chybejicich ulic s původnimi souradnicemi"
   ]
  },
  {
   "cell_type": "code",
   "execution_count": 14,
   "metadata": {},
   "outputs": [
    {
     "data": {
      "text/html": [
       "<div>\n",
       "<style scoped>\n",
       "    .dataframe tbody tr th:only-of-type {\n",
       "        vertical-align: middle;\n",
       "    }\n",
       "\n",
       "    .dataframe tbody tr th {\n",
       "        vertical-align: top;\n",
       "    }\n",
       "\n",
       "    .dataframe thead th {\n",
       "        text-align: right;\n",
       "    }\n",
       "</style>\n",
       "<table border=\"1\" class=\"dataframe\">\n",
       "  <thead>\n",
       "    <tr style=\"text-align: right;\">\n",
       "      <th></th>\n",
       "      <th>uuid</th>\n",
       "      <th>street</th>\n",
       "      <th>coordType</th>\n",
       "      <th>coordinates</th>\n",
       "    </tr>\n",
       "  </thead>\n",
       "  <tbody>\n",
       "    <tr>\n",
       "      <th>6</th>\n",
       "      <td>1415306095</td>\n",
       "      <td>NaN</td>\n",
       "      <td>LineString</td>\n",
       "      <td>[[16.565247, 49.169382], [16.565195, 49.168989]]</td>\n",
       "    </tr>\n",
       "    <tr>\n",
       "      <th>21</th>\n",
       "      <td>1337977851</td>\n",
       "      <td>NaN</td>\n",
       "      <td>LineString</td>\n",
       "      <td>[[16.636833, 49.184715], [16.636845, 49.184698...</td>\n",
       "    </tr>\n",
       "    <tr>\n",
       "      <th>73</th>\n",
       "      <td>1415181365</td>\n",
       "      <td>NaN</td>\n",
       "      <td>LineString</td>\n",
       "      <td>[[16.584055, 49.151261], [16.584035, 49.151285...</td>\n",
       "    </tr>\n",
       "    <tr>\n",
       "      <th>154</th>\n",
       "      <td>1531488523</td>\n",
       "      <td>NaN</td>\n",
       "      <td>LineString</td>\n",
       "      <td>[[16.636232, 49.203183], [16.636126, 49.202979]]</td>\n",
       "    </tr>\n",
       "    <tr>\n",
       "      <th>202</th>\n",
       "      <td>1440329274</td>\n",
       "      <td>NaN</td>\n",
       "      <td>LineString</td>\n",
       "      <td>[[16.583742, 49.151054], [16.583783, 49.151046...</td>\n",
       "    </tr>\n",
       "  </tbody>\n",
       "</table>\n",
       "</div>"
      ],
      "text/plain": [
       "           uuid street   coordType  \\\n",
       "6    1415306095    NaN  LineString   \n",
       "21   1337977851    NaN  LineString   \n",
       "73   1415181365    NaN  LineString   \n",
       "154  1531488523    NaN  LineString   \n",
       "202  1440329274    NaN  LineString   \n",
       "\n",
       "                                           coordinates  \n",
       "6     [[16.565247, 49.169382], [16.565195, 49.168989]]  \n",
       "21   [[16.636833, 49.184715], [16.636845, 49.184698...  \n",
       "73   [[16.584055, 49.151261], [16.584035, 49.151285...  \n",
       "154   [[16.636232, 49.203183], [16.636126, 49.202979]]  \n",
       "202  [[16.583742, 49.151054], [16.583783, 49.151046...  "
      ]
     },
     "execution_count": 14,
     "metadata": {},
     "output_type": "execute_result"
    }
   ],
   "source": [
    "trafficCoordMiss = trafficCoord2Df[trafficCoord2Df[\"uuid\"].isin(missing2SQLdf[\"uuid\"])]\n",
    "trafficCoordMiss.head()"
   ]
  },
  {
   "cell_type": "markdown",
   "metadata": {},
   "source": [
    "Výběr poslední souřadnice ze seznamu (+podmínka pro multiLineString)"
   ]
  },
  {
   "cell_type": "code",
   "execution_count": 15,
   "metadata": {},
   "outputs": [
    {
     "data": {
      "text/plain": [
       "[[49.168989, 16.565195],\n",
       " [49.184651, 16.637032],\n",
       " [49.151332, 16.583715],\n",
       " [49.202979, 16.636126],\n",
       " [49.151261, 16.584055]]"
      ]
     },
     "execution_count": 15,
     "metadata": {},
     "output_type": "execute_result"
    }
   ],
   "source": [
    "souradniceList =[]\n",
    "for i in trafficCoordMiss.index:\n",
    "    if 'MultiLineString' in trafficCoordMiss['coordType'][i]:\n",
    "        souradnice = [trafficCoordMiss['coordinates'][i][0][-1][1],trafficCoordMiss['coordinates'][i][0][-1][0]]\n",
    "    else:   \n",
    "        souradnice = [trafficCoordMiss['coordinates'][i][-1][1],trafficCoordMiss['coordinates'][i][-1][0]]\n",
    "    souradniceList.append(souradnice)\n",
    "souradniceList[0:5]\n"
   ]
  },
  {
   "cell_type": "markdown",
   "metadata": {},
   "source": [
    "přiřazení názvu ulice podle poslední souřadnice v (Multi)LineString, metoda RateLimiter"
   ]
  },
  {
   "cell_type": "code",
   "execution_count": 16,
   "metadata": {},
   "outputs": [],
   "source": [
    "streetList2 = []"
   ]
  },
  {
   "cell_type": "code",
   "execution_count": null,
   "metadata": {
    "scrolled": false
   },
   "outputs": [],
   "source": [
    "for i in range(0,len(souradniceList)):\n",
    "    reverse = RateLimiter(geolocator.reverse, min_delay_seconds = 1)\n",
    "    location = reverse([souradniceList[i][0],souradniceList[i][1]], language = 'cz') #pořadí souř. již správné\n",
    "    if 'road' in location.raw['address']:\n",
    "        name = location.raw['address']['road']\n",
    "    elif 'suburb' in location.raw['address']:#pokud chybí údaj o ulici, doplň městskou část+okres\n",
    "        suburb = location.raw['address']['suburb']\n",
    "        municip = location.raw['address']['municipality']\n",
    "        name = suburb+','+municip\n",
    "    else:#pokud chybí i městská část, doplň missing\n",
    "        suburb = 'missing'\n",
    "        municip = location.raw['address']['municipality']\n",
    "        name = suburb+','+municip\n",
    "    streetList2.append(name)"
   ]
  },
  {
   "cell_type": "markdown",
   "metadata": {},
   "source": [
    "uložení do tabulky missing_streets3.csv"
   ]
  },
  {
   "cell_type": "code",
   "execution_count": null,
   "metadata": {},
   "outputs": [],
   "source": [
    "trafficCoordMiss['souradniceEnd'] = souradniceList\n",
    "trafficCoordMiss['street3'] = streetList2\n",
    "trafficCoordMiss.to_csv('missing_streets3.csv', encoding = 'utf-8')"
   ]
  },
  {
   "cell_type": "markdown",
   "metadata": {},
   "source": [
    "po třetím kole doplnění chybí ještě 460 ulic....už ponechány pouze názvy městských částí;okres"
   ]
  }
 ],
 "metadata": {
  "kernelspec": {
   "display_name": "Python 3",
   "language": "python",
   "name": "python3"
  },
  "language_info": {
   "codemirror_mode": {
    "name": "ipython",
    "version": 3
   },
   "file_extension": ".py",
   "mimetype": "text/x-python",
   "name": "python",
   "nbconvert_exporter": "python",
   "pygments_lexer": "ipython3",
   "version": "3.8.5"
  }
 },
 "nbformat": 4,
 "nbformat_minor": 4
}
