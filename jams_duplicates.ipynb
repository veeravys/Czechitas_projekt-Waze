{
 "cells": [
  {
   "cell_type": "code",
   "execution_count": 1,
   "metadata": {},
   "outputs": [],
   "source": [
    "import pandas as pd\n",
    "import numpy as np\n",
    "import ast\n",
    "from shapely.geometry import LineString, MultiLineString\n",
    "from datetime import timedelta"
   ]
  },
  {
   "cell_type": "markdown",
   "metadata": {},
   "source": [
    "## Traffic jams - odstranění duplicit, groupBy"
   ]
  },
  {
   "cell_type": "code",
   "execution_count": 2,
   "metadata": {},
   "outputs": [],
   "source": [
    "trafficDelaysDf = pd.read_csv('trafficDelaysDateStreets.csv')"
   ]
  },
  {
   "cell_type": "markdown",
   "metadata": {},
   "source": [
    "seřazení hodnot podle ulice, level, length, datumCas"
   ]
  },
  {
   "cell_type": "code",
   "execution_count": 3,
   "metadata": {},
   "outputs": [],
   "source": [
    "trafficDelaysDf=trafficDelaysDf.sort_values(by = ['street','level','length','datumCas'], axis = 0)"
   ]
  },
  {
   "cell_type": "code",
   "execution_count": 4,
   "metadata": {},
   "outputs": [
    {
     "data": {
      "text/html": [
       "<div>\n",
       "<style scoped>\n",
       "    .dataframe tbody tr th:only-of-type {\n",
       "        vertical-align: middle;\n",
       "    }\n",
       "\n",
       "    .dataframe tbody tr th {\n",
       "        vertical-align: top;\n",
       "    }\n",
       "\n",
       "    .dataframe thead th {\n",
       "        text-align: right;\n",
       "    }\n",
       "</style>\n",
       "<table border=\"1\" class=\"dataframe\">\n",
       "  <thead>\n",
       "    <tr style=\"text-align: right;\">\n",
       "      <th></th>\n",
       "      <th>uuid</th>\n",
       "      <th>pubMillis</th>\n",
       "      <th>level</th>\n",
       "      <th>delay</th>\n",
       "      <th>speed</th>\n",
       "      <th>speedKMH</th>\n",
       "      <th>length</th>\n",
       "      <th>street</th>\n",
       "      <th>city</th>\n",
       "      <th>blockingAlertUuid</th>\n",
       "      <th>objectid</th>\n",
       "      <th>datumCas</th>\n",
       "      <th>datum</th>\n",
       "      <th>weekdays</th>\n",
       "      <th>hours</th>\n",
       "      <th>quarters</th>\n",
       "      <th>minutes</th>\n",
       "      <th>coordType</th>\n",
       "      <th>coordinates</th>\n",
       "    </tr>\n",
       "  </thead>\n",
       "  <tbody>\n",
       "    <tr>\n",
       "      <th>54566</th>\n",
       "      <td>1758204495</td>\n",
       "      <td>2020/08/28 13:04:34.938+00</td>\n",
       "      <td>2</td>\n",
       "      <td>81</td>\n",
       "      <td>8</td>\n",
       "      <td>28.8</td>\n",
       "      <td>1406</td>\n",
       "      <td>00215</td>\n",
       "      <td>Brno</td>\n",
       "      <td>NaN</td>\n",
       "      <td>54567</td>\n",
       "      <td>2020-08-28 15:04:34</td>\n",
       "      <td>2020-08-28</td>\n",
       "      <td>Friday</td>\n",
       "      <td>15</td>\n",
       "      <td>0</td>\n",
       "      <td>4</td>\n",
       "      <td>LineString</td>\n",
       "      <td>[[16.396626, 49.207064], [16.396653, 49.206098...</td>\n",
       "    </tr>\n",
       "    <tr>\n",
       "      <th>54649</th>\n",
       "      <td>1908368646</td>\n",
       "      <td>2020/08/28 13:41:14.164+00</td>\n",
       "      <td>2</td>\n",
       "      <td>81</td>\n",
       "      <td>8</td>\n",
       "      <td>28.8</td>\n",
       "      <td>1406</td>\n",
       "      <td>00215</td>\n",
       "      <td>Brno</td>\n",
       "      <td>NaN</td>\n",
       "      <td>54650</td>\n",
       "      <td>2020-08-28 15:41:14</td>\n",
       "      <td>2020-08-28</td>\n",
       "      <td>Friday</td>\n",
       "      <td>15</td>\n",
       "      <td>30</td>\n",
       "      <td>41</td>\n",
       "      <td>LineString</td>\n",
       "      <td>[[16.396626, 49.207064], [16.396653, 49.206098...</td>\n",
       "    </tr>\n",
       "    <tr>\n",
       "      <th>31249</th>\n",
       "      <td>1514921112</td>\n",
       "      <td>2020/08/09 20:00:56.254+00</td>\n",
       "      <td>3</td>\n",
       "      <td>238</td>\n",
       "      <td>4</td>\n",
       "      <td>14.4</td>\n",
       "      <td>1197</td>\n",
       "      <td>00215</td>\n",
       "      <td>Brno</td>\n",
       "      <td>NaN</td>\n",
       "      <td>31250</td>\n",
       "      <td>2020-08-09 22:00:56</td>\n",
       "      <td>2020-08-09</td>\n",
       "      <td>Sunday</td>\n",
       "      <td>22</td>\n",
       "      <td>0</td>\n",
       "      <td>0</td>\n",
       "      <td>LineString</td>\n",
       "      <td>[[16.396125, 49.209505], [16.39628, 49.208651]...</td>\n",
       "    </tr>\n",
       "    <tr>\n",
       "      <th>21490</th>\n",
       "      <td>609394922</td>\n",
       "      <td>2020/07/30 08:33:42.769+00</td>\n",
       "      <td>3</td>\n",
       "      <td>106</td>\n",
       "      <td>2</td>\n",
       "      <td>7.2</td>\n",
       "      <td>254</td>\n",
       "      <td>00219</td>\n",
       "      <td>Brno</td>\n",
       "      <td>NaN</td>\n",
       "      <td>21491</td>\n",
       "      <td>2020-07-30 10:33:42</td>\n",
       "      <td>2020-07-30</td>\n",
       "      <td>Thursday</td>\n",
       "      <td>10</td>\n",
       "      <td>30</td>\n",
       "      <td>33</td>\n",
       "      <td>LineString</td>\n",
       "      <td>[[16.605032, 49.104682], [16.605143, 49.105088...</td>\n",
       "    </tr>\n",
       "    <tr>\n",
       "      <th>28398</th>\n",
       "      <td>1188847118</td>\n",
       "      <td>2020/08/05 18:22:13.048+00</td>\n",
       "      <td>3</td>\n",
       "      <td>117</td>\n",
       "      <td>5</td>\n",
       "      <td>18.0</td>\n",
       "      <td>1116</td>\n",
       "      <td>00219</td>\n",
       "      <td>Popovice</td>\n",
       "      <td>NaN</td>\n",
       "      <td>28399</td>\n",
       "      <td>2020-08-05 20:22:13</td>\n",
       "      <td>2020-08-05</td>\n",
       "      <td>Wednesday</td>\n",
       "      <td>20</td>\n",
       "      <td>15</td>\n",
       "      <td>22</td>\n",
       "      <td>LineString</td>\n",
       "      <td>[[16.607265, 49.10312], [16.61084, 49.104611],...</td>\n",
       "    </tr>\n",
       "  </tbody>\n",
       "</table>\n",
       "</div>"
      ],
      "text/plain": [
       "             uuid                   pubMillis  level  delay  speed  speedKMH  \\\n",
       "54566  1758204495  2020/08/28 13:04:34.938+00      2     81      8      28.8   \n",
       "54649  1908368646  2020/08/28 13:41:14.164+00      2     81      8      28.8   \n",
       "31249  1514921112  2020/08/09 20:00:56.254+00      3    238      4      14.4   \n",
       "21490   609394922  2020/07/30 08:33:42.769+00      3    106      2       7.2   \n",
       "28398  1188847118  2020/08/05 18:22:13.048+00      3    117      5      18.0   \n",
       "\n",
       "       length street      city blockingAlertUuid  objectid  \\\n",
       "54566    1406  00215      Brno               NaN     54567   \n",
       "54649    1406  00215      Brno               NaN     54650   \n",
       "31249    1197  00215      Brno               NaN     31250   \n",
       "21490     254  00219      Brno               NaN     21491   \n",
       "28398    1116  00219  Popovice               NaN     28399   \n",
       "\n",
       "                  datumCas       datum   weekdays  hours  quarters  minutes  \\\n",
       "54566  2020-08-28 15:04:34  2020-08-28     Friday     15         0        4   \n",
       "54649  2020-08-28 15:41:14  2020-08-28     Friday     15        30       41   \n",
       "31249  2020-08-09 22:00:56  2020-08-09     Sunday     22         0        0   \n",
       "21490  2020-07-30 10:33:42  2020-07-30   Thursday     10        30       33   \n",
       "28398  2020-08-05 20:22:13  2020-08-05  Wednesday     20        15       22   \n",
       "\n",
       "        coordType                                        coordinates  \n",
       "54566  LineString  [[16.396626, 49.207064], [16.396653, 49.206098...  \n",
       "54649  LineString  [[16.396626, 49.207064], [16.396653, 49.206098...  \n",
       "31249  LineString  [[16.396125, 49.209505], [16.39628, 49.208651]...  \n",
       "21490  LineString  [[16.605032, 49.104682], [16.605143, 49.105088...  \n",
       "28398  LineString  [[16.607265, 49.10312], [16.61084, 49.104611],...  "
      ]
     },
     "execution_count": 4,
     "metadata": {},
     "output_type": "execute_result"
    }
   ],
   "source": [
    "trafficDelaysDf.head()"
   ]
  },
  {
   "cell_type": "code",
   "execution_count": 5,
   "metadata": {},
   "outputs": [],
   "source": [
    "trafficDelaysDf=trafficDelaysDf.reset_index()\n",
    "trafficDelaysDf=trafficDelaysDf.drop(['index'], axis = 1)"
   ]
  },
  {
   "cell_type": "markdown",
   "metadata": {},
   "source": [
    "serie T/F a tabulka duplikátů podle level, street, datum"
   ]
  },
  {
   "cell_type": "code",
   "execution_count": 6,
   "metadata": {},
   "outputs": [
    {
     "data": {
      "text/plain": [
       "84021"
      ]
     },
     "execution_count": 6,
     "metadata": {},
     "output_type": "execute_result"
    }
   ],
   "source": [
    "DuplSerie = trafficDelaysDf.duplicated(subset = ['level', 'street','datum'])\n",
    "trafficDelaysDfDupl = trafficDelaysDf[trafficDelaysDf.duplicated(subset = ['level', 'street','datum'])]\n",
    "len(trafficDelaysDfDupl)"
   ]
  },
  {
   "cell_type": "markdown",
   "metadata": {},
   "source": [
    "převod sloupce coordinates na seznam čísel (místo str)"
   ]
  },
  {
   "cell_type": "code",
   "execution_count": 7,
   "metadata": {},
   "outputs": [],
   "source": [
    "def geotype(coordserie):\n",
    "    geocoord = ast.literal_eval(coordserie)    \n",
    "    return geocoord"
   ]
  },
  {
   "cell_type": "code",
   "execution_count": 8,
   "metadata": {},
   "outputs": [],
   "source": [
    "trafficDelaysDf['coordinates'] = trafficDelaysDf['coordinates'].apply(geotype)"
   ]
  },
  {
   "cell_type": "code",
   "execution_count": 9,
   "metadata": {},
   "outputs": [
    {
     "data": {
      "image/svg+xml": [
       "<svg xmlns=\"http://www.w3.org/2000/svg\" xmlns:xlink=\"http://www.w3.org/1999/xlink\" width=\"100.0\" height=\"100.0\" viewBox=\"16.39283056 49.19465056 0.0054618800000021395 0.012890880000000493\" preserveAspectRatio=\"xMinYMin meet\"><g transform=\"matrix(1,0,0,-1,0,98.402192)\"><polyline fill=\"none\" stroke=\"#66cc99\" stroke-width=\"0.0002578176000000099\" points=\"16.396626,49.207064 16.396653,49.206098 16.396756,49.205514 16.397075,49.204746 16.397276,49.204383 16.397542,49.204041 16.397715,49.203757 16.397815,49.203428 16.397799,49.203137 16.397725,49.202857 16.39704,49.20103 16.396752,49.200514 16.396011,49.199607 16.395588,49.199189 16.395323,49.198927 16.394905,49.198353 16.394518,49.197781 16.393308,49.195128\" opacity=\"0.8\" /></g></svg>"
      ],
      "text/plain": [
       "<shapely.geometry.linestring.LineString at 0x105b6280>"
      ]
     },
     "execution_count": 9,
     "metadata": {},
     "output_type": "execute_result"
    }
   ],
   "source": [
    "LineString(trafficDelaysDf['coordinates'][1])"
   ]
  },
  {
   "cell_type": "markdown",
   "metadata": {},
   "source": [
    "převod sloupce coordinates na MultiLineString a LineString - nový sloupec geo"
   ]
  },
  {
   "cell_type": "code",
   "execution_count": 9,
   "metadata": {},
   "outputs": [],
   "source": [
    "geocoord = []\n",
    "for i in trafficDelaysDf.index:\n",
    "    if trafficDelaysDf['coordType'][i] == 'MultiLineString':\n",
    "        geocoord.append(MultiLineString(trafficDelaysDf['coordinates'][i]))\n",
    "    else:\n",
    "        geocoord.append(LineString(trafficDelaysDf['coordinates'][i]))"
   ]
  },
  {
   "cell_type": "code",
   "execution_count": 10,
   "metadata": {},
   "outputs": [],
   "source": [
    "trafficDelaysDf['geo']= geocoord"
   ]
  },
  {
   "cell_type": "code",
   "execution_count": 12,
   "metadata": {},
   "outputs": [
    {
     "data": {
      "text/plain": [
       "False"
      ]
     },
     "execution_count": 12,
     "metadata": {},
     "output_type": "execute_result"
    }
   ],
   "source": [
    "trafficDelaysDf['geo'][2].intersects(trafficDelaysDf['geo'][3])"
   ]
  },
  {
   "cell_type": "markdown",
   "metadata": {},
   "source": [
    "odstranění duplikátů (podle ulice,levelu, času pokud je rozdíl < 15min a souřadnic, pokud se překrývají)"
   ]
  },
  {
   "cell_type": "code",
   "execution_count": 11,
   "metadata": {},
   "outputs": [],
   "source": [
    "trafficDelaysDf1=trafficDelaysDf.copy()"
   ]
  },
  {
   "cell_type": "code",
   "execution_count": 12,
   "metadata": {},
   "outputs": [],
   "source": [
    "trafficDelaysDf['datumCas'] = pd.to_datetime(trafficDelaysDf['datumCas'])"
   ]
  },
  {
   "cell_type": "code",
   "execution_count": 13,
   "metadata": {},
   "outputs": [],
   "source": [
    "for i in range(1,len(trafficDelaysDf1)):\n",
    "    if (DuplSerie[i]) & (trafficDelaysDf['datumCas'][i]-trafficDelaysDf['datumCas'][i-1]< timedelta(minutes = 15))&(trafficDelaysDf['geo'][i].intersects(trafficDelaysDf['geo'][i-1])):\n",
    "        trafficDelaysDf1=trafficDelaysDf1.drop([i])\n",
    "        i = i-1"
   ]
  },
  {
   "cell_type": "code",
   "execution_count": 14,
   "metadata": {},
   "outputs": [
    {
     "data": {
      "text/plain": [
       "102361"
      ]
     },
     "execution_count": 14,
     "metadata": {},
     "output_type": "execute_result"
    }
   ],
   "source": [
    "len(trafficDelaysDf1)"
   ]
  },
  {
   "cell_type": "code",
   "execution_count": 15,
   "metadata": {},
   "outputs": [
    {
     "data": {
      "text/html": [
       "<div>\n",
       "<style scoped>\n",
       "    .dataframe tbody tr th:only-of-type {\n",
       "        vertical-align: middle;\n",
       "    }\n",
       "\n",
       "    .dataframe tbody tr th {\n",
       "        vertical-align: top;\n",
       "    }\n",
       "\n",
       "    .dataframe thead th {\n",
       "        text-align: right;\n",
       "    }\n",
       "</style>\n",
       "<table border=\"1\" class=\"dataframe\">\n",
       "  <thead>\n",
       "    <tr style=\"text-align: right;\">\n",
       "      <th></th>\n",
       "      <th>uuid</th>\n",
       "      <th>pubMillis</th>\n",
       "      <th>level</th>\n",
       "      <th>delay</th>\n",
       "      <th>speed</th>\n",
       "      <th>speedKMH</th>\n",
       "      <th>length</th>\n",
       "      <th>street</th>\n",
       "      <th>city</th>\n",
       "      <th>blockingAlertUuid</th>\n",
       "      <th>objectid</th>\n",
       "      <th>datumCas</th>\n",
       "      <th>datum</th>\n",
       "      <th>weekdays</th>\n",
       "      <th>hours</th>\n",
       "      <th>quarters</th>\n",
       "      <th>minutes</th>\n",
       "      <th>coordType</th>\n",
       "      <th>coordinates</th>\n",
       "      <th>geo</th>\n",
       "    </tr>\n",
       "  </thead>\n",
       "  <tbody>\n",
       "    <tr>\n",
       "      <th>0</th>\n",
       "      <td>1758204495</td>\n",
       "      <td>2020/08/28 13:04:34.938+00</td>\n",
       "      <td>2</td>\n",
       "      <td>81</td>\n",
       "      <td>8</td>\n",
       "      <td>28.8</td>\n",
       "      <td>1406</td>\n",
       "      <td>00215</td>\n",
       "      <td>Brno</td>\n",
       "      <td>NaN</td>\n",
       "      <td>54567</td>\n",
       "      <td>2020-08-28 15:04:34</td>\n",
       "      <td>2020-08-28</td>\n",
       "      <td>Friday</td>\n",
       "      <td>15</td>\n",
       "      <td>0</td>\n",
       "      <td>4</td>\n",
       "      <td>LineString</td>\n",
       "      <td>[[16.396626, 49.207064], [16.396653, 49.206098...</td>\n",
       "      <td>LINESTRING (16.396626 49.207064, 16.396653 49....</td>\n",
       "    </tr>\n",
       "    <tr>\n",
       "      <th>1</th>\n",
       "      <td>1908368646</td>\n",
       "      <td>2020/08/28 13:41:14.164+00</td>\n",
       "      <td>2</td>\n",
       "      <td>81</td>\n",
       "      <td>8</td>\n",
       "      <td>28.8</td>\n",
       "      <td>1406</td>\n",
       "      <td>00215</td>\n",
       "      <td>Brno</td>\n",
       "      <td>NaN</td>\n",
       "      <td>54650</td>\n",
       "      <td>2020-08-28 15:41:14</td>\n",
       "      <td>2020-08-28</td>\n",
       "      <td>Friday</td>\n",
       "      <td>15</td>\n",
       "      <td>30</td>\n",
       "      <td>41</td>\n",
       "      <td>LineString</td>\n",
       "      <td>[[16.396626, 49.207064], [16.396653, 49.206098...</td>\n",
       "      <td>LINESTRING (16.396626 49.207064, 16.396653 49....</td>\n",
       "    </tr>\n",
       "    <tr>\n",
       "      <th>2</th>\n",
       "      <td>1514921112</td>\n",
       "      <td>2020/08/09 20:00:56.254+00</td>\n",
       "      <td>3</td>\n",
       "      <td>238</td>\n",
       "      <td>4</td>\n",
       "      <td>14.4</td>\n",
       "      <td>1197</td>\n",
       "      <td>00215</td>\n",
       "      <td>Brno</td>\n",
       "      <td>NaN</td>\n",
       "      <td>31250</td>\n",
       "      <td>2020-08-09 22:00:56</td>\n",
       "      <td>2020-08-09</td>\n",
       "      <td>Sunday</td>\n",
       "      <td>22</td>\n",
       "      <td>0</td>\n",
       "      <td>0</td>\n",
       "      <td>LineString</td>\n",
       "      <td>[[16.396125, 49.209505], [16.39628, 49.208651]...</td>\n",
       "      <td>LINESTRING (16.396125 49.209505, 16.39628 49.2...</td>\n",
       "    </tr>\n",
       "    <tr>\n",
       "      <th>3</th>\n",
       "      <td>609394922</td>\n",
       "      <td>2020/07/30 08:33:42.769+00</td>\n",
       "      <td>3</td>\n",
       "      <td>106</td>\n",
       "      <td>2</td>\n",
       "      <td>7.2</td>\n",
       "      <td>254</td>\n",
       "      <td>00219</td>\n",
       "      <td>Brno</td>\n",
       "      <td>NaN</td>\n",
       "      <td>21491</td>\n",
       "      <td>2020-07-30 10:33:42</td>\n",
       "      <td>2020-07-30</td>\n",
       "      <td>Thursday</td>\n",
       "      <td>10</td>\n",
       "      <td>30</td>\n",
       "      <td>33</td>\n",
       "      <td>LineString</td>\n",
       "      <td>[[16.605032, 49.104682], [16.605143, 49.105088...</td>\n",
       "      <td>LINESTRING (16.605032 49.104682, 16.605143 49....</td>\n",
       "    </tr>\n",
       "    <tr>\n",
       "      <th>4</th>\n",
       "      <td>1188847118</td>\n",
       "      <td>2020/08/05 18:22:13.048+00</td>\n",
       "      <td>3</td>\n",
       "      <td>117</td>\n",
       "      <td>5</td>\n",
       "      <td>18.0</td>\n",
       "      <td>1116</td>\n",
       "      <td>00219</td>\n",
       "      <td>Popovice</td>\n",
       "      <td>NaN</td>\n",
       "      <td>28399</td>\n",
       "      <td>2020-08-05 20:22:13</td>\n",
       "      <td>2020-08-05</td>\n",
       "      <td>Wednesday</td>\n",
       "      <td>20</td>\n",
       "      <td>15</td>\n",
       "      <td>22</td>\n",
       "      <td>LineString</td>\n",
       "      <td>[[16.607265, 49.10312], [16.61084, 49.104611],...</td>\n",
       "      <td>LINESTRING (16.607265 49.10312, 16.61084 49.10...</td>\n",
       "    </tr>\n",
       "  </tbody>\n",
       "</table>\n",
       "</div>"
      ],
      "text/plain": [
       "         uuid                   pubMillis  level  delay  speed  speedKMH  \\\n",
       "0  1758204495  2020/08/28 13:04:34.938+00      2     81      8      28.8   \n",
       "1  1908368646  2020/08/28 13:41:14.164+00      2     81      8      28.8   \n",
       "2  1514921112  2020/08/09 20:00:56.254+00      3    238      4      14.4   \n",
       "3   609394922  2020/07/30 08:33:42.769+00      3    106      2       7.2   \n",
       "4  1188847118  2020/08/05 18:22:13.048+00      3    117      5      18.0   \n",
       "\n",
       "   length street      city blockingAlertUuid  objectid             datumCas  \\\n",
       "0    1406  00215      Brno               NaN     54567  2020-08-28 15:04:34   \n",
       "1    1406  00215      Brno               NaN     54650  2020-08-28 15:41:14   \n",
       "2    1197  00215      Brno               NaN     31250  2020-08-09 22:00:56   \n",
       "3     254  00219      Brno               NaN     21491  2020-07-30 10:33:42   \n",
       "4    1116  00219  Popovice               NaN     28399  2020-08-05 20:22:13   \n",
       "\n",
       "        datum   weekdays  hours  quarters  minutes   coordType  \\\n",
       "0  2020-08-28     Friday     15         0        4  LineString   \n",
       "1  2020-08-28     Friday     15        30       41  LineString   \n",
       "2  2020-08-09     Sunday     22         0        0  LineString   \n",
       "3  2020-07-30   Thursday     10        30       33  LineString   \n",
       "4  2020-08-05  Wednesday     20        15       22  LineString   \n",
       "\n",
       "                                         coordinates  \\\n",
       "0  [[16.396626, 49.207064], [16.396653, 49.206098...   \n",
       "1  [[16.396626, 49.207064], [16.396653, 49.206098...   \n",
       "2  [[16.396125, 49.209505], [16.39628, 49.208651]...   \n",
       "3  [[16.605032, 49.104682], [16.605143, 49.105088...   \n",
       "4  [[16.607265, 49.10312], [16.61084, 49.104611],...   \n",
       "\n",
       "                                                 geo  \n",
       "0  LINESTRING (16.396626 49.207064, 16.396653 49....  \n",
       "1  LINESTRING (16.396626 49.207064, 16.396653 49....  \n",
       "2  LINESTRING (16.396125 49.209505, 16.39628 49.2...  \n",
       "3  LINESTRING (16.605032 49.104682, 16.605143 49....  \n",
       "4  LINESTRING (16.607265 49.10312, 16.61084 49.10...  "
      ]
     },
     "execution_count": 15,
     "metadata": {},
     "output_type": "execute_result"
    }
   ],
   "source": [
    "trafficDelaysDf1.head()"
   ]
  },
  {
   "cell_type": "code",
   "execution_count": 16,
   "metadata": {},
   "outputs": [],
   "source": [
    "trafficDelaysDf1.to_csv('trafficJamsFinal3.csv', encoding = 'utf-8', index = False)"
   ]
  },
  {
   "cell_type": "code",
   "execution_count": 17,
   "metadata": {},
   "outputs": [],
   "source": [
    "trafficDelaysDf1=trafficDelaysDf1.drop(['coordType','coordinates','geo'], axis = 1)# verze bez souřadnic"
   ]
  },
  {
   "cell_type": "code",
   "execution_count": 18,
   "metadata": {},
   "outputs": [],
   "source": [
    "trafficDelaysDf1.to_csv('trafficJamsFinal3NoCoord.csv', encoding = 'utf-8', index = False)"
   ]
  },
  {
   "cell_type": "markdown",
   "metadata": {},
   "source": [
    "GROUP BY - vytvoření souboru s počty záznamů podle dnů a hodin"
   ]
  },
  {
   "cell_type": "code",
   "execution_count": 19,
   "metadata": {},
   "outputs": [],
   "source": [
    "jamsGroupDf = trafficDelaysDf1.copy()"
   ]
  },
  {
   "cell_type": "code",
   "execution_count": null,
   "metadata": {},
   "outputs": [],
   "source": [
    "#jamsGroupDf = pd.read_csv('trafficJamsFinal3NoCoord.csv', encoding = 'utf-8')"
   ]
  },
  {
   "cell_type": "code",
   "execution_count": 20,
   "metadata": {},
   "outputs": [],
   "source": [
    "#jamsGroupDf['datum'] = pd.to_datetime(jamsGroupDf['datum']).apply(date) ...při načtení znova ze souboru\n",
    "jamsGroupDf = jamsGroupDf.rename(columns={'hours':'hour'})"
   ]
  },
  {
   "cell_type": "code",
   "execution_count": 21,
   "metadata": {},
   "outputs": [],
   "source": [
    "jamsGroupDf = jamsGroupDf.sort_values(by = 'datumCas').groupby(['datum','hour'])['uuid'].count()"
   ]
  },
  {
   "cell_type": "code",
   "execution_count": 22,
   "metadata": {},
   "outputs": [
    {
     "data": {
      "text/plain": [
       "datum       hour\n",
       "2020-07-13  4       142\n",
       "            5         4\n",
       "            6         1\n",
       "            7         1\n",
       "            9         1\n",
       "                   ... \n",
       "2020-10-13  5         5\n",
       "2020-10-14  4        37\n",
       "            9        21\n",
       "            18        3\n",
       "            19        7\n",
       "Name: uuid, Length: 2060, dtype: int64"
      ]
     },
     "execution_count": 22,
     "metadata": {},
     "output_type": "execute_result"
    }
   ],
   "source": [
    "jamsGroupDf"
   ]
  },
  {
   "cell_type": "code",
   "execution_count": 23,
   "metadata": {},
   "outputs": [],
   "source": [
    "jamsGroupDf.to_csv('jamsGroupDf1.csv', encoding = 'UTF-8')"
   ]
  }
 ],
 "metadata": {
  "kernelspec": {
   "display_name": "Python 3",
   "language": "python",
   "name": "python3"
  },
  "language_info": {
   "codemirror_mode": {
    "name": "ipython",
    "version": 3
   },
   "file_extension": ".py",
   "mimetype": "text/x-python",
   "name": "python",
   "nbconvert_exporter": "python",
   "pygments_lexer": "ipython3",
   "version": "3.8.5"
  }
 },
 "nbformat": 4,
 "nbformat_minor": 4
}
