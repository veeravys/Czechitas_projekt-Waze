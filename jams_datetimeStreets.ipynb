{
 "cells": [
  {
   "cell_type": "code",
   "execution_count": 1,
   "metadata": {},
   "outputs": [],
   "source": [
    "import pandas as pd\n",
    "import numpy as np\n",
    "import ast\n",
    "from datetime import datetime, timezone"
   ]
  },
  {
   "cell_type": "markdown",
   "metadata": {},
   "source": [
    "## TrafficJams - Datum, čas, ulice"
   ]
  },
  {
   "cell_type": "code",
   "execution_count": 2,
   "metadata": {},
   "outputs": [],
   "source": [
    "trafficDelaysDf = pd.read_csv('C:/Users/verav/Documents/Projekt/Python_projekt/plynulostVSE.csv')"
   ]
  },
  {
   "cell_type": "code",
   "execution_count": 3,
   "metadata": {},
   "outputs": [],
   "source": [
    "trafficDelaysDf = trafficDelaysDf.drop(columns = ['type'])\n",
    "trafficDelaysDf.columns = trafficDelaysDf.columns.str.replace('properties.','')\n",
    "trafficDelaysDf= trafficDelaysDf.rename(columns={'geometry.type':'coordType'})\n",
    "trafficDelaysDf= trafficDelaysDf.rename(columns={'geometry.coordinates':'coordinates'})"
   ]
  },
  {
   "cell_type": "markdown",
   "metadata": {},
   "source": [
    "odmazání nepotřebných sloupců"
   ]
  },
  {
   "cell_type": "code",
   "execution_count": 4,
   "metadata": {},
   "outputs": [],
   "source": [
    "trafficDelaysDf= trafficDelaysDf.drop(['country','endNode','type', 'roadType', 'turnType', 'globalid'], axis = 1)"
   ]
  },
  {
   "cell_type": "code",
   "execution_count": 5,
   "metadata": {},
   "outputs": [],
   "source": [
    "trafficDelaysDf['speedKMH'] = trafficDelaysDf['speed']*3.6 #převod z m/s na km/h"
   ]
  },
  {
   "cell_type": "code",
   "execution_count": 6,
   "metadata": {},
   "outputs": [
    {
     "data": {
      "text/html": [
       "<div>\n",
       "<style scoped>\n",
       "    .dataframe tbody tr th:only-of-type {\n",
       "        vertical-align: middle;\n",
       "    }\n",
       "\n",
       "    .dataframe tbody tr th {\n",
       "        vertical-align: top;\n",
       "    }\n",
       "\n",
       "    .dataframe thead th {\n",
       "        text-align: right;\n",
       "    }\n",
       "</style>\n",
       "<table border=\"1\" class=\"dataframe\">\n",
       "  <thead>\n",
       "    <tr style=\"text-align: right;\">\n",
       "      <th></th>\n",
       "      <th>uuid</th>\n",
       "      <th>pubMillis</th>\n",
       "      <th>level</th>\n",
       "      <th>delay</th>\n",
       "      <th>speed</th>\n",
       "      <th>speedKMH</th>\n",
       "      <th>length</th>\n",
       "      <th>street</th>\n",
       "      <th>city</th>\n",
       "      <th>blockingAlertUuid</th>\n",
       "      <th>objectid</th>\n",
       "      <th>coordType</th>\n",
       "      <th>coordinates</th>\n",
       "    </tr>\n",
       "  </thead>\n",
       "  <tbody>\n",
       "    <tr>\n",
       "      <th>0</th>\n",
       "      <td>1363839630</td>\n",
       "      <td>2020/07/13 02:26:04.341+00</td>\n",
       "      <td>5</td>\n",
       "      <td>-1</td>\n",
       "      <td>0</td>\n",
       "      <td>0.0</td>\n",
       "      <td>162</td>\n",
       "      <td>» Centrum / Bohunice</td>\n",
       "      <td>Brno</td>\n",
       "      <td>NaN</td>\n",
       "      <td>1</td>\n",
       "      <td>LineString</td>\n",
       "      <td>[[16.558271, 49.171838], [16.558371, 49.17184]...</td>\n",
       "    </tr>\n",
       "    <tr>\n",
       "      <th>1</th>\n",
       "      <td>1388730276</td>\n",
       "      <td>2020/07/13 02:26:01.618+00</td>\n",
       "      <td>5</td>\n",
       "      <td>-1</td>\n",
       "      <td>0</td>\n",
       "      <td>0.0</td>\n",
       "      <td>45</td>\n",
       "      <td>NaN</td>\n",
       "      <td>Brno</td>\n",
       "      <td>aff5a9d0-5b84-3878-94a5-4c8c39ccfe4c</td>\n",
       "      <td>2</td>\n",
       "      <td>LineString</td>\n",
       "      <td>[[16.567145, 49.171995], [16.567112, 49.171732...</td>\n",
       "    </tr>\n",
       "    <tr>\n",
       "      <th>2</th>\n",
       "      <td>1451737922</td>\n",
       "      <td>2020/07/13 02:26:03.702+00</td>\n",
       "      <td>5</td>\n",
       "      <td>-1</td>\n",
       "      <td>0</td>\n",
       "      <td>0.0</td>\n",
       "      <td>52</td>\n",
       "      <td>U Dráhy</td>\n",
       "      <td>Ostopovice</td>\n",
       "      <td>f5987a0c-c5e0-3064-ad5d-9d58b296b1d9</td>\n",
       "      <td>3</td>\n",
       "      <td>LineString</td>\n",
       "      <td>[[16.544367, 49.16387], [16.544937, 49.163597]]</td>\n",
       "    </tr>\n",
       "    <tr>\n",
       "      <th>3</th>\n",
       "      <td>1388985166</td>\n",
       "      <td>2020/07/13 02:27:45.411+00</td>\n",
       "      <td>5</td>\n",
       "      <td>-1</td>\n",
       "      <td>0</td>\n",
       "      <td>0.0</td>\n",
       "      <td>19</td>\n",
       "      <td>Na Hrázi</td>\n",
       "      <td>Střelice</td>\n",
       "      <td>a7ae280a-44f3-36cc-a6ce-8d5720ac4e37</td>\n",
       "      <td>4</td>\n",
       "      <td>LineString</td>\n",
       "      <td>[[16.501287, 49.153107], [16.501311, 49.153273]]</td>\n",
       "    </tr>\n",
       "    <tr>\n",
       "      <th>4</th>\n",
       "      <td>1440208034</td>\n",
       "      <td>2020/07/13 02:26:06.591+00</td>\n",
       "      <td>5</td>\n",
       "      <td>-1</td>\n",
       "      <td>0</td>\n",
       "      <td>0.0</td>\n",
       "      <td>44</td>\n",
       "      <td>NaN</td>\n",
       "      <td>Brno</td>\n",
       "      <td>c2b5e9f5-8eef-3e08-9092-ba52f4726a62</td>\n",
       "      <td>5</td>\n",
       "      <td>LineString</td>\n",
       "      <td>[[16.565195, 49.168989], [16.565247, 49.169382]]</td>\n",
       "    </tr>\n",
       "  </tbody>\n",
       "</table>\n",
       "</div>"
      ],
      "text/plain": [
       "         uuid                   pubMillis  level  delay  speed  speedKMH  \\\n",
       "0  1363839630  2020/07/13 02:26:04.341+00      5     -1      0       0.0   \n",
       "1  1388730276  2020/07/13 02:26:01.618+00      5     -1      0       0.0   \n",
       "2  1451737922  2020/07/13 02:26:03.702+00      5     -1      0       0.0   \n",
       "3  1388985166  2020/07/13 02:27:45.411+00      5     -1      0       0.0   \n",
       "4  1440208034  2020/07/13 02:26:06.591+00      5     -1      0       0.0   \n",
       "\n",
       "   length                street        city  \\\n",
       "0     162  » Centrum / Bohunice        Brno   \n",
       "1      45                   NaN        Brno   \n",
       "2      52               U Dráhy  Ostopovice   \n",
       "3      19              Na Hrázi    Střelice   \n",
       "4      44                   NaN        Brno   \n",
       "\n",
       "                      blockingAlertUuid  objectid   coordType  \\\n",
       "0                                   NaN         1  LineString   \n",
       "1  aff5a9d0-5b84-3878-94a5-4c8c39ccfe4c         2  LineString   \n",
       "2  f5987a0c-c5e0-3064-ad5d-9d58b296b1d9         3  LineString   \n",
       "3  a7ae280a-44f3-36cc-a6ce-8d5720ac4e37         4  LineString   \n",
       "4  c2b5e9f5-8eef-3e08-9092-ba52f4726a62         5  LineString   \n",
       "\n",
       "                                         coordinates  \n",
       "0  [[16.558271, 49.171838], [16.558371, 49.17184]...  \n",
       "1  [[16.567145, 49.171995], [16.567112, 49.171732...  \n",
       "2    [[16.544367, 49.16387], [16.544937, 49.163597]]  \n",
       "3   [[16.501287, 49.153107], [16.501311, 49.153273]]  \n",
       "4   [[16.565195, 49.168989], [16.565247, 49.169382]]  "
      ]
     },
     "execution_count": 6,
     "metadata": {},
     "output_type": "execute_result"
    }
   ],
   "source": [
    "trafficDelaysDf.head()"
   ]
  },
  {
   "cell_type": "code",
   "execution_count": 7,
   "metadata": {},
   "outputs": [
    {
     "data": {
      "text/plain": [
       "str"
      ]
     },
     "execution_count": 7,
     "metadata": {},
     "output_type": "execute_result"
    }
   ],
   "source": [
    "type(trafficDelaysDf['pubMillis'][0])"
   ]
  },
  {
   "cell_type": "markdown",
   "metadata": {},
   "source": [
    "odmazání milisekund a timezone z pubMillis (jinak problém s převodem na datetime)"
   ]
  },
  {
   "cell_type": "code",
   "execution_count": 8,
   "metadata": {},
   "outputs": [],
   "source": [
    "dateTimeStrList = []\n",
    "for i in range(0,len(trafficDelaysDf['pubMillis'])):\n",
    "    if \".\" in trafficDelaysDf['pubMillis'][i]:\n",
    "        dateTimeStrList.append(trafficDelaysDf['pubMillis'][i].split(\".\")[0])\n",
    "    elif \"+\" in trafficDelaysDf['pubMillis'][i]:\n",
    "        dateTimeStrList.append(trafficDelaysDf['pubMillis'][i].split(\"+\")[0])\n",
    "    else:\n",
    "        print('error')"
   ]
  },
  {
   "cell_type": "code",
   "execution_count": null,
   "metadata": {},
   "outputs": [],
   "source": [
    "dateTimeStrList[1000:1020]"
   ]
  },
  {
   "cell_type": "markdown",
   "metadata": {},
   "source": [
    "převod na dateTime formát"
   ]
  },
  {
   "cell_type": "code",
   "execution_count": 9,
   "metadata": {},
   "outputs": [],
   "source": [
    "dateTimeList1 = []\n",
    "for i in range(0,len(dateTimeStrList)):\n",
    "    dateTimeList1.append(datetime.strptime(dateTimeStrList[i], '%Y/%m/%d %H:%M:%S')) # % = formát ve kterém jsou pův.data"
   ]
  },
  {
   "cell_type": "markdown",
   "metadata": {},
   "source": [
    "přiřazení info o time zone"
   ]
  },
  {
   "cell_type": "code",
   "execution_count": 10,
   "metadata": {},
   "outputs": [],
   "source": [
    "dateTimeUTCList = []\n",
    "for i in range(0,len(dateTimeList1)):\n",
    "    dateTimeUTCList.append(dateTimeList1[i].replace(tzinfo=timezone.utc))"
   ]
  },
  {
   "cell_type": "markdown",
   "metadata": {},
   "source": [
    "převod na naši zonu"
   ]
  },
  {
   "cell_type": "code",
   "execution_count": 11,
   "metadata": {},
   "outputs": [],
   "source": [
    "dateTimeSTCList = []\n",
    "for i in range(0,len(dateTimeUTCList)):\n",
    "    dateTimeSTCList.append(dateTimeUTCList[i].astimezone())"
   ]
  },
  {
   "cell_type": "code",
   "execution_count": 12,
   "metadata": {},
   "outputs": [
    {
     "data": {
      "text/plain": [
       "[datetime.datetime(2020, 7, 13, 4, 26, 1, tzinfo=datetime.timezone(datetime.timedelta(seconds=7200), 'Střední Evropa (letní čas)')),\n",
       " datetime.datetime(2020, 7, 13, 4, 26, 3, tzinfo=datetime.timezone(datetime.timedelta(seconds=7200), 'Střední Evropa (letní čas)')),\n",
       " datetime.datetime(2020, 7, 13, 4, 27, 45, tzinfo=datetime.timezone(datetime.timedelta(seconds=7200), 'Střední Evropa (letní čas)')),\n",
       " datetime.datetime(2020, 7, 13, 4, 26, 6, tzinfo=datetime.timezone(datetime.timedelta(seconds=7200), 'Střední Evropa (letní čas)'))]"
      ]
     },
     "execution_count": 12,
     "metadata": {},
     "output_type": "execute_result"
    }
   ],
   "source": [
    "dateTimeSTCList[1:5]"
   ]
  },
  {
   "cell_type": "markdown",
   "metadata": {},
   "source": [
    "vytvoření nových sloupců (datum,weekdays,seznam hodin, minut, čtvrthodin)"
   ]
  },
  {
   "cell_type": "code",
   "execution_count": 13,
   "metadata": {},
   "outputs": [],
   "source": [
    "weekDayList = []\n",
    "weekDays = (\"Monday\",\"Tuesday\",\"Wednesday\",\"Thursday\",\"Friday\",\"Saturday\",\"Sunday\")\n",
    "for i in range(0,len(dateTimeSTCList)):\n",
    "    weekDayList.append(weekDays[dateTimeSTCList[i].weekday()]) #.weekday() přiřadí číslo od 0 do 6 (tj.pak index weekDays)"
   ]
  },
  {
   "cell_type": "code",
   "execution_count": 14,
   "metadata": {},
   "outputs": [],
   "source": [
    "trafficDelaysDf['weekdays'] = weekDayList"
   ]
  },
  {
   "cell_type": "code",
   "execution_count": 15,
   "metadata": {},
   "outputs": [],
   "source": [
    "hoursList = []\n",
    "for i in range(0,len(dateTimeSTCList)):\n",
    "    hoursList.append(dateTimeSTCList[i].hour)"
   ]
  },
  {
   "cell_type": "code",
   "execution_count": 16,
   "metadata": {},
   "outputs": [],
   "source": [
    "trafficDelaysDf['hours'] = hoursList"
   ]
  },
  {
   "cell_type": "code",
   "execution_count": 17,
   "metadata": {},
   "outputs": [],
   "source": [
    "minutesList = []\n",
    "for i in range(0,len(dateTimeSTCList)):\n",
    "    minutesList.append(dateTimeSTCList[i].minute)"
   ]
  },
  {
   "cell_type": "code",
   "execution_count": 18,
   "metadata": {},
   "outputs": [],
   "source": [
    "trafficDelaysDf['minutes'] = minutesList"
   ]
  },
  {
   "cell_type": "code",
   "execution_count": 19,
   "metadata": {},
   "outputs": [],
   "source": [
    "quarters = []\n",
    "for i in range(0,len(dateTimeSTCList)):\n",
    "    if trafficDelaysDf['minutes'][i] <= 15:\n",
    "        quarters.append('00')\n",
    "    elif trafficDelaysDf['minutes'][i] <= 30:\n",
    "        quarters.append('15')\n",
    "    elif trafficDelaysDf['minutes'][i] <= 45:\n",
    "        quarters.append('30')\n",
    "    else:\n",
    "        quarters.append('45')"
   ]
  },
  {
   "cell_type": "code",
   "execution_count": 20,
   "metadata": {},
   "outputs": [],
   "source": [
    "trafficDelaysDf['quarters'] = quarters"
   ]
  },
  {
   "cell_type": "code",
   "execution_count": 21,
   "metadata": {},
   "outputs": [],
   "source": [
    "dateTimeList = []# pro přidání do tabulky bez info o time zone\n",
    "for i in range(0,len(dateTimeSTCList)):\n",
    "    dateTimeList.append(dateTimeSTCList[i].replace(tzinfo=None))"
   ]
  },
  {
   "cell_type": "code",
   "execution_count": 22,
   "metadata": {},
   "outputs": [],
   "source": [
    "trafficDelaysDf['datumCas'] = dateTimeList"
   ]
  },
  {
   "cell_type": "code",
   "execution_count": 23,
   "metadata": {},
   "outputs": [],
   "source": [
    "datum = []\n",
    "for i in trafficDelaysDf.index:\n",
    "    date = trafficDelaysDf['datumCas'][i].date()\n",
    "    datum.append(date)"
   ]
  },
  {
   "cell_type": "code",
   "execution_count": 24,
   "metadata": {},
   "outputs": [],
   "source": [
    "trafficDelaysDf['datum'] = datum"
   ]
  },
  {
   "cell_type": "code",
   "execution_count": 25,
   "metadata": {},
   "outputs": [
    {
     "data": {
      "text/html": [
       "<div>\n",
       "<style scoped>\n",
       "    .dataframe tbody tr th:only-of-type {\n",
       "        vertical-align: middle;\n",
       "    }\n",
       "\n",
       "    .dataframe tbody tr th {\n",
       "        vertical-align: top;\n",
       "    }\n",
       "\n",
       "    .dataframe thead th {\n",
       "        text-align: right;\n",
       "    }\n",
       "</style>\n",
       "<table border=\"1\" class=\"dataframe\">\n",
       "  <thead>\n",
       "    <tr style=\"text-align: right;\">\n",
       "      <th></th>\n",
       "      <th>uuid</th>\n",
       "      <th>pubMillis</th>\n",
       "      <th>level</th>\n",
       "      <th>delay</th>\n",
       "      <th>speed</th>\n",
       "      <th>speedKMH</th>\n",
       "      <th>length</th>\n",
       "      <th>street</th>\n",
       "      <th>city</th>\n",
       "      <th>blockingAlertUuid</th>\n",
       "      <th>objectid</th>\n",
       "      <th>coordType</th>\n",
       "      <th>coordinates</th>\n",
       "      <th>weekdays</th>\n",
       "      <th>hours</th>\n",
       "      <th>minutes</th>\n",
       "      <th>quarters</th>\n",
       "      <th>datumCas</th>\n",
       "      <th>datum</th>\n",
       "    </tr>\n",
       "  </thead>\n",
       "  <tbody>\n",
       "    <tr>\n",
       "      <th>0</th>\n",
       "      <td>1363839630</td>\n",
       "      <td>2020/07/13 02:26:04.341+00</td>\n",
       "      <td>5</td>\n",
       "      <td>-1</td>\n",
       "      <td>0</td>\n",
       "      <td>0.0</td>\n",
       "      <td>162</td>\n",
       "      <td>» Centrum / Bohunice</td>\n",
       "      <td>Brno</td>\n",
       "      <td>NaN</td>\n",
       "      <td>1</td>\n",
       "      <td>LineString</td>\n",
       "      <td>[[16.558271, 49.171838], [16.558371, 49.17184]...</td>\n",
       "      <td>Monday</td>\n",
       "      <td>4</td>\n",
       "      <td>26</td>\n",
       "      <td>15</td>\n",
       "      <td>2020-07-13 04:26:04</td>\n",
       "      <td>2020-07-13</td>\n",
       "    </tr>\n",
       "    <tr>\n",
       "      <th>1</th>\n",
       "      <td>1388730276</td>\n",
       "      <td>2020/07/13 02:26:01.618+00</td>\n",
       "      <td>5</td>\n",
       "      <td>-1</td>\n",
       "      <td>0</td>\n",
       "      <td>0.0</td>\n",
       "      <td>45</td>\n",
       "      <td>NaN</td>\n",
       "      <td>Brno</td>\n",
       "      <td>aff5a9d0-5b84-3878-94a5-4c8c39ccfe4c</td>\n",
       "      <td>2</td>\n",
       "      <td>LineString</td>\n",
       "      <td>[[16.567145, 49.171995], [16.567112, 49.171732...</td>\n",
       "      <td>Monday</td>\n",
       "      <td>4</td>\n",
       "      <td>26</td>\n",
       "      <td>15</td>\n",
       "      <td>2020-07-13 04:26:01</td>\n",
       "      <td>2020-07-13</td>\n",
       "    </tr>\n",
       "    <tr>\n",
       "      <th>2</th>\n",
       "      <td>1451737922</td>\n",
       "      <td>2020/07/13 02:26:03.702+00</td>\n",
       "      <td>5</td>\n",
       "      <td>-1</td>\n",
       "      <td>0</td>\n",
       "      <td>0.0</td>\n",
       "      <td>52</td>\n",
       "      <td>U Dráhy</td>\n",
       "      <td>Ostopovice</td>\n",
       "      <td>f5987a0c-c5e0-3064-ad5d-9d58b296b1d9</td>\n",
       "      <td>3</td>\n",
       "      <td>LineString</td>\n",
       "      <td>[[16.544367, 49.16387], [16.544937, 49.163597]]</td>\n",
       "      <td>Monday</td>\n",
       "      <td>4</td>\n",
       "      <td>26</td>\n",
       "      <td>15</td>\n",
       "      <td>2020-07-13 04:26:03</td>\n",
       "      <td>2020-07-13</td>\n",
       "    </tr>\n",
       "    <tr>\n",
       "      <th>3</th>\n",
       "      <td>1388985166</td>\n",
       "      <td>2020/07/13 02:27:45.411+00</td>\n",
       "      <td>5</td>\n",
       "      <td>-1</td>\n",
       "      <td>0</td>\n",
       "      <td>0.0</td>\n",
       "      <td>19</td>\n",
       "      <td>Na Hrázi</td>\n",
       "      <td>Střelice</td>\n",
       "      <td>a7ae280a-44f3-36cc-a6ce-8d5720ac4e37</td>\n",
       "      <td>4</td>\n",
       "      <td>LineString</td>\n",
       "      <td>[[16.501287, 49.153107], [16.501311, 49.153273]]</td>\n",
       "      <td>Monday</td>\n",
       "      <td>4</td>\n",
       "      <td>27</td>\n",
       "      <td>15</td>\n",
       "      <td>2020-07-13 04:27:45</td>\n",
       "      <td>2020-07-13</td>\n",
       "    </tr>\n",
       "    <tr>\n",
       "      <th>4</th>\n",
       "      <td>1440208034</td>\n",
       "      <td>2020/07/13 02:26:06.591+00</td>\n",
       "      <td>5</td>\n",
       "      <td>-1</td>\n",
       "      <td>0</td>\n",
       "      <td>0.0</td>\n",
       "      <td>44</td>\n",
       "      <td>NaN</td>\n",
       "      <td>Brno</td>\n",
       "      <td>c2b5e9f5-8eef-3e08-9092-ba52f4726a62</td>\n",
       "      <td>5</td>\n",
       "      <td>LineString</td>\n",
       "      <td>[[16.565195, 49.168989], [16.565247, 49.169382]]</td>\n",
       "      <td>Monday</td>\n",
       "      <td>4</td>\n",
       "      <td>26</td>\n",
       "      <td>15</td>\n",
       "      <td>2020-07-13 04:26:06</td>\n",
       "      <td>2020-07-13</td>\n",
       "    </tr>\n",
       "  </tbody>\n",
       "</table>\n",
       "</div>"
      ],
      "text/plain": [
       "         uuid                   pubMillis  level  delay  speed  speedKMH  \\\n",
       "0  1363839630  2020/07/13 02:26:04.341+00      5     -1      0       0.0   \n",
       "1  1388730276  2020/07/13 02:26:01.618+00      5     -1      0       0.0   \n",
       "2  1451737922  2020/07/13 02:26:03.702+00      5     -1      0       0.0   \n",
       "3  1388985166  2020/07/13 02:27:45.411+00      5     -1      0       0.0   \n",
       "4  1440208034  2020/07/13 02:26:06.591+00      5     -1      0       0.0   \n",
       "\n",
       "   length                street        city  \\\n",
       "0     162  » Centrum / Bohunice        Brno   \n",
       "1      45                   NaN        Brno   \n",
       "2      52               U Dráhy  Ostopovice   \n",
       "3      19              Na Hrázi    Střelice   \n",
       "4      44                   NaN        Brno   \n",
       "\n",
       "                      blockingAlertUuid  objectid   coordType  \\\n",
       "0                                   NaN         1  LineString   \n",
       "1  aff5a9d0-5b84-3878-94a5-4c8c39ccfe4c         2  LineString   \n",
       "2  f5987a0c-c5e0-3064-ad5d-9d58b296b1d9         3  LineString   \n",
       "3  a7ae280a-44f3-36cc-a6ce-8d5720ac4e37         4  LineString   \n",
       "4  c2b5e9f5-8eef-3e08-9092-ba52f4726a62         5  LineString   \n",
       "\n",
       "                                         coordinates weekdays  hours  minutes  \\\n",
       "0  [[16.558271, 49.171838], [16.558371, 49.17184]...   Monday      4       26   \n",
       "1  [[16.567145, 49.171995], [16.567112, 49.171732...   Monday      4       26   \n",
       "2    [[16.544367, 49.16387], [16.544937, 49.163597]]   Monday      4       26   \n",
       "3   [[16.501287, 49.153107], [16.501311, 49.153273]]   Monday      4       27   \n",
       "4   [[16.565195, 49.168989], [16.565247, 49.169382]]   Monday      4       26   \n",
       "\n",
       "  quarters            datumCas       datum  \n",
       "0       15 2020-07-13 04:26:04  2020-07-13  \n",
       "1       15 2020-07-13 04:26:01  2020-07-13  \n",
       "2       15 2020-07-13 04:26:03  2020-07-13  \n",
       "3       15 2020-07-13 04:27:45  2020-07-13  \n",
       "4       15 2020-07-13 04:26:06  2020-07-13  "
      ]
     },
     "execution_count": 25,
     "metadata": {},
     "output_type": "execute_result"
    }
   ],
   "source": [
    "trafficDelaysDf.head()"
   ]
  },
  {
   "cell_type": "code",
   "execution_count": 26,
   "metadata": {},
   "outputs": [
    {
     "data": {
      "text/plain": [
       "Index(['uuid', 'pubMillis', 'level', 'delay', 'speed', 'speedKMH', 'length',\n",
       "       'street', 'city', 'blockingAlertUuid', 'objectid', 'coordType',\n",
       "       'coordinates', 'weekdays', 'hours', 'minutes', 'quarters', 'datumCas',\n",
       "       'datum'],\n",
       "      dtype='object')"
      ]
     },
     "execution_count": 26,
     "metadata": {},
     "output_type": "execute_result"
    }
   ],
   "source": [
    "trafficDelaysDf.columns"
   ]
  },
  {
   "cell_type": "markdown",
   "metadata": {},
   "source": [
    "přehození pořadí sloupců, aby byly souřadnice na konci"
   ]
  },
  {
   "cell_type": "code",
   "execution_count": 27,
   "metadata": {},
   "outputs": [],
   "source": [
    "trafficDelaysDf = trafficDelaysDf[[col for col in trafficDelaysDf if col not in ['weekdays','hours','minutes','quarters','coordType','coordinates']]+['weekdays','hours','quarters','minutes','coordType','coordinates']] "
   ]
  },
  {
   "cell_type": "markdown",
   "metadata": {},
   "source": [
    "přiřazení doplněných názvů ulic z StreetNames.ipynb"
   ]
  },
  {
   "cell_type": "code",
   "execution_count": 28,
   "metadata": {},
   "outputs": [],
   "source": [
    "streetsDf = pd.read_csv('finalDfstreet.csv', encoding = 'UTF-8')"
   ]
  },
  {
   "cell_type": "code",
   "execution_count": 29,
   "metadata": {},
   "outputs": [],
   "source": [
    "trafficDelaysDf['street'] = streetsDf['street']"
   ]
  },
  {
   "cell_type": "markdown",
   "metadata": {},
   "source": [
    "uprava názvů ulic (Žabovřeská) a doplnění města"
   ]
  },
  {
   "cell_type": "code",
   "execution_count": 30,
   "metadata": {},
   "outputs": [],
   "source": [
    "trafficDelaysDf['street'] = trafficDelaysDf['street'].str.strip()"
   ]
  },
  {
   "cell_type": "code",
   "execution_count": null,
   "metadata": {},
   "outputs": [],
   "source": [
    "trafficDelaysDf[trafficDelaysDf['street'] == \"Žabovřesky,okres Brno-město\"]"
   ]
  },
  {
   "cell_type": "code",
   "execution_count": 33,
   "metadata": {},
   "outputs": [],
   "source": [
    "trafficDelaysDf['street'] = trafficDelaysDf['street'].replace(\"Žabovřesky,okres Brno-město\",\"Žabovřeská\")"
   ]
  },
  {
   "cell_type": "code",
   "execution_count": 34,
   "metadata": {},
   "outputs": [],
   "source": [
    "trafficDelaysDf['city'] = trafficDelaysDf['city'].fillna(\"Brno\")"
   ]
  },
  {
   "cell_type": "code",
   "execution_count": 35,
   "metadata": {},
   "outputs": [
    {
     "data": {
      "text/html": [
       "<div>\n",
       "<style scoped>\n",
       "    .dataframe tbody tr th:only-of-type {\n",
       "        vertical-align: middle;\n",
       "    }\n",
       "\n",
       "    .dataframe tbody tr th {\n",
       "        vertical-align: top;\n",
       "    }\n",
       "\n",
       "    .dataframe thead th {\n",
       "        text-align: right;\n",
       "    }\n",
       "</style>\n",
       "<table border=\"1\" class=\"dataframe\">\n",
       "  <thead>\n",
       "    <tr style=\"text-align: right;\">\n",
       "      <th></th>\n",
       "      <th>uuid</th>\n",
       "      <th>pubMillis</th>\n",
       "      <th>level</th>\n",
       "      <th>delay</th>\n",
       "      <th>speed</th>\n",
       "      <th>speedKMH</th>\n",
       "      <th>length</th>\n",
       "      <th>street</th>\n",
       "      <th>city</th>\n",
       "      <th>blockingAlertUuid</th>\n",
       "      <th>objectid</th>\n",
       "      <th>datumCas</th>\n",
       "      <th>datum</th>\n",
       "      <th>weekdays</th>\n",
       "      <th>hours</th>\n",
       "      <th>quarters</th>\n",
       "      <th>minutes</th>\n",
       "      <th>coordType</th>\n",
       "      <th>coordinates</th>\n",
       "    </tr>\n",
       "  </thead>\n",
       "  <tbody>\n",
       "    <tr>\n",
       "      <th>0</th>\n",
       "      <td>1363839630</td>\n",
       "      <td>2020/07/13 02:26:04.341+00</td>\n",
       "      <td>5</td>\n",
       "      <td>-1</td>\n",
       "      <td>0</td>\n",
       "      <td>0.0</td>\n",
       "      <td>162</td>\n",
       "      <td>» Centrum / Bohunice</td>\n",
       "      <td>Brno</td>\n",
       "      <td>NaN</td>\n",
       "      <td>1</td>\n",
       "      <td>2020-07-13 04:26:04</td>\n",
       "      <td>2020-07-13</td>\n",
       "      <td>Monday</td>\n",
       "      <td>4</td>\n",
       "      <td>15</td>\n",
       "      <td>26</td>\n",
       "      <td>LineString</td>\n",
       "      <td>[[16.558271, 49.171838], [16.558371, 49.17184]...</td>\n",
       "    </tr>\n",
       "    <tr>\n",
       "      <th>1</th>\n",
       "      <td>1388730276</td>\n",
       "      <td>2020/07/13 02:26:01.618+00</td>\n",
       "      <td>5</td>\n",
       "      <td>-1</td>\n",
       "      <td>0</td>\n",
       "      <td>0.0</td>\n",
       "      <td>45</td>\n",
       "      <td>Labská</td>\n",
       "      <td>Brno</td>\n",
       "      <td>aff5a9d0-5b84-3878-94a5-4c8c39ccfe4c</td>\n",
       "      <td>2</td>\n",
       "      <td>2020-07-13 04:26:01</td>\n",
       "      <td>2020-07-13</td>\n",
       "      <td>Monday</td>\n",
       "      <td>4</td>\n",
       "      <td>15</td>\n",
       "      <td>26</td>\n",
       "      <td>LineString</td>\n",
       "      <td>[[16.567145, 49.171995], [16.567112, 49.171732...</td>\n",
       "    </tr>\n",
       "    <tr>\n",
       "      <th>2</th>\n",
       "      <td>1451737922</td>\n",
       "      <td>2020/07/13 02:26:03.702+00</td>\n",
       "      <td>5</td>\n",
       "      <td>-1</td>\n",
       "      <td>0</td>\n",
       "      <td>0.0</td>\n",
       "      <td>52</td>\n",
       "      <td>U Dráhy</td>\n",
       "      <td>Ostopovice</td>\n",
       "      <td>f5987a0c-c5e0-3064-ad5d-9d58b296b1d9</td>\n",
       "      <td>3</td>\n",
       "      <td>2020-07-13 04:26:03</td>\n",
       "      <td>2020-07-13</td>\n",
       "      <td>Monday</td>\n",
       "      <td>4</td>\n",
       "      <td>15</td>\n",
       "      <td>26</td>\n",
       "      <td>LineString</td>\n",
       "      <td>[[16.544367, 49.16387], [16.544937, 49.163597]]</td>\n",
       "    </tr>\n",
       "    <tr>\n",
       "      <th>3</th>\n",
       "      <td>1388985166</td>\n",
       "      <td>2020/07/13 02:27:45.411+00</td>\n",
       "      <td>5</td>\n",
       "      <td>-1</td>\n",
       "      <td>0</td>\n",
       "      <td>0.0</td>\n",
       "      <td>19</td>\n",
       "      <td>Na Hrázi</td>\n",
       "      <td>Střelice</td>\n",
       "      <td>a7ae280a-44f3-36cc-a6ce-8d5720ac4e37</td>\n",
       "      <td>4</td>\n",
       "      <td>2020-07-13 04:27:45</td>\n",
       "      <td>2020-07-13</td>\n",
       "      <td>Monday</td>\n",
       "      <td>4</td>\n",
       "      <td>15</td>\n",
       "      <td>27</td>\n",
       "      <td>LineString</td>\n",
       "      <td>[[16.501287, 49.153107], [16.501311, 49.153273]]</td>\n",
       "    </tr>\n",
       "    <tr>\n",
       "      <th>4</th>\n",
       "      <td>1440208034</td>\n",
       "      <td>2020/07/13 02:26:06.591+00</td>\n",
       "      <td>5</td>\n",
       "      <td>-1</td>\n",
       "      <td>0</td>\n",
       "      <td>0.0</td>\n",
       "      <td>44</td>\n",
       "      <td>Okrouhlá</td>\n",
       "      <td>Brno</td>\n",
       "      <td>c2b5e9f5-8eef-3e08-9092-ba52f4726a62</td>\n",
       "      <td>5</td>\n",
       "      <td>2020-07-13 04:26:06</td>\n",
       "      <td>2020-07-13</td>\n",
       "      <td>Monday</td>\n",
       "      <td>4</td>\n",
       "      <td>15</td>\n",
       "      <td>26</td>\n",
       "      <td>LineString</td>\n",
       "      <td>[[16.565195, 49.168989], [16.565247, 49.169382]]</td>\n",
       "    </tr>\n",
       "  </tbody>\n",
       "</table>\n",
       "</div>"
      ],
      "text/plain": [
       "         uuid                   pubMillis  level  delay  speed  speedKMH  \\\n",
       "0  1363839630  2020/07/13 02:26:04.341+00      5     -1      0       0.0   \n",
       "1  1388730276  2020/07/13 02:26:01.618+00      5     -1      0       0.0   \n",
       "2  1451737922  2020/07/13 02:26:03.702+00      5     -1      0       0.0   \n",
       "3  1388985166  2020/07/13 02:27:45.411+00      5     -1      0       0.0   \n",
       "4  1440208034  2020/07/13 02:26:06.591+00      5     -1      0       0.0   \n",
       "\n",
       "   length                street        city  \\\n",
       "0     162  » Centrum / Bohunice        Brno   \n",
       "1      45                Labská        Brno   \n",
       "2      52               U Dráhy  Ostopovice   \n",
       "3      19              Na Hrázi    Střelice   \n",
       "4      44              Okrouhlá        Brno   \n",
       "\n",
       "                      blockingAlertUuid  objectid            datumCas  \\\n",
       "0                                   NaN         1 2020-07-13 04:26:04   \n",
       "1  aff5a9d0-5b84-3878-94a5-4c8c39ccfe4c         2 2020-07-13 04:26:01   \n",
       "2  f5987a0c-c5e0-3064-ad5d-9d58b296b1d9         3 2020-07-13 04:26:03   \n",
       "3  a7ae280a-44f3-36cc-a6ce-8d5720ac4e37         4 2020-07-13 04:27:45   \n",
       "4  c2b5e9f5-8eef-3e08-9092-ba52f4726a62         5 2020-07-13 04:26:06   \n",
       "\n",
       "        datum weekdays  hours quarters  minutes   coordType  \\\n",
       "0  2020-07-13   Monday      4       15       26  LineString   \n",
       "1  2020-07-13   Monday      4       15       26  LineString   \n",
       "2  2020-07-13   Monday      4       15       26  LineString   \n",
       "3  2020-07-13   Monday      4       15       27  LineString   \n",
       "4  2020-07-13   Monday      4       15       26  LineString   \n",
       "\n",
       "                                         coordinates  \n",
       "0  [[16.558271, 49.171838], [16.558371, 49.17184]...  \n",
       "1  [[16.567145, 49.171995], [16.567112, 49.171732...  \n",
       "2    [[16.544367, 49.16387], [16.544937, 49.163597]]  \n",
       "3   [[16.501287, 49.153107], [16.501311, 49.153273]]  \n",
       "4   [[16.565195, 49.168989], [16.565247, 49.169382]]  "
      ]
     },
     "execution_count": 35,
     "metadata": {},
     "output_type": "execute_result"
    }
   ],
   "source": [
    "trafficDelaysDf.head()"
   ]
  },
  {
   "cell_type": "code",
   "execution_count": 36,
   "metadata": {},
   "outputs": [],
   "source": [
    "trafficDelaysDf.to_csv('trafficDelaysDateStreets.csv', encoding = 'utf-8', index = False)"
   ]
  },
  {
   "cell_type": "markdown",
   "metadata": {},
   "source": [
    "vytvoření souboru bez souřadnic pro jednodušší import do sql a powerBI"
   ]
  },
  {
   "cell_type": "code",
   "execution_count": 37,
   "metadata": {},
   "outputs": [],
   "source": [
    "trafficJamsNoCoord = trafficDelaysDf.iloc[:,:-2]"
   ]
  },
  {
   "cell_type": "code",
   "execution_count": 38,
   "metadata": {},
   "outputs": [
    {
     "data": {
      "text/html": [
       "<div>\n",
       "<style scoped>\n",
       "    .dataframe tbody tr th:only-of-type {\n",
       "        vertical-align: middle;\n",
       "    }\n",
       "\n",
       "    .dataframe tbody tr th {\n",
       "        vertical-align: top;\n",
       "    }\n",
       "\n",
       "    .dataframe thead th {\n",
       "        text-align: right;\n",
       "    }\n",
       "</style>\n",
       "<table border=\"1\" class=\"dataframe\">\n",
       "  <thead>\n",
       "    <tr style=\"text-align: right;\">\n",
       "      <th></th>\n",
       "      <th>uuid</th>\n",
       "      <th>pubMillis</th>\n",
       "      <th>level</th>\n",
       "      <th>delay</th>\n",
       "      <th>speed</th>\n",
       "      <th>speedKMH</th>\n",
       "      <th>length</th>\n",
       "      <th>street</th>\n",
       "      <th>city</th>\n",
       "      <th>blockingAlertUuid</th>\n",
       "      <th>objectid</th>\n",
       "      <th>datumCas</th>\n",
       "      <th>datum</th>\n",
       "      <th>weekdays</th>\n",
       "      <th>hours</th>\n",
       "      <th>quarters</th>\n",
       "      <th>minutes</th>\n",
       "    </tr>\n",
       "  </thead>\n",
       "  <tbody>\n",
       "    <tr>\n",
       "      <th>0</th>\n",
       "      <td>1363839630</td>\n",
       "      <td>2020/07/13 02:26:04.341+00</td>\n",
       "      <td>5</td>\n",
       "      <td>-1</td>\n",
       "      <td>0</td>\n",
       "      <td>0.0</td>\n",
       "      <td>162</td>\n",
       "      <td>» Centrum / Bohunice</td>\n",
       "      <td>Brno</td>\n",
       "      <td>NaN</td>\n",
       "      <td>1</td>\n",
       "      <td>2020-07-13 04:26:04</td>\n",
       "      <td>2020-07-13</td>\n",
       "      <td>Monday</td>\n",
       "      <td>4</td>\n",
       "      <td>15</td>\n",
       "      <td>26</td>\n",
       "    </tr>\n",
       "    <tr>\n",
       "      <th>1</th>\n",
       "      <td>1388730276</td>\n",
       "      <td>2020/07/13 02:26:01.618+00</td>\n",
       "      <td>5</td>\n",
       "      <td>-1</td>\n",
       "      <td>0</td>\n",
       "      <td>0.0</td>\n",
       "      <td>45</td>\n",
       "      <td>Labská</td>\n",
       "      <td>Brno</td>\n",
       "      <td>aff5a9d0-5b84-3878-94a5-4c8c39ccfe4c</td>\n",
       "      <td>2</td>\n",
       "      <td>2020-07-13 04:26:01</td>\n",
       "      <td>2020-07-13</td>\n",
       "      <td>Monday</td>\n",
       "      <td>4</td>\n",
       "      <td>15</td>\n",
       "      <td>26</td>\n",
       "    </tr>\n",
       "    <tr>\n",
       "      <th>2</th>\n",
       "      <td>1451737922</td>\n",
       "      <td>2020/07/13 02:26:03.702+00</td>\n",
       "      <td>5</td>\n",
       "      <td>-1</td>\n",
       "      <td>0</td>\n",
       "      <td>0.0</td>\n",
       "      <td>52</td>\n",
       "      <td>U Dráhy</td>\n",
       "      <td>Ostopovice</td>\n",
       "      <td>f5987a0c-c5e0-3064-ad5d-9d58b296b1d9</td>\n",
       "      <td>3</td>\n",
       "      <td>2020-07-13 04:26:03</td>\n",
       "      <td>2020-07-13</td>\n",
       "      <td>Monday</td>\n",
       "      <td>4</td>\n",
       "      <td>15</td>\n",
       "      <td>26</td>\n",
       "    </tr>\n",
       "    <tr>\n",
       "      <th>3</th>\n",
       "      <td>1388985166</td>\n",
       "      <td>2020/07/13 02:27:45.411+00</td>\n",
       "      <td>5</td>\n",
       "      <td>-1</td>\n",
       "      <td>0</td>\n",
       "      <td>0.0</td>\n",
       "      <td>19</td>\n",
       "      <td>Na Hrázi</td>\n",
       "      <td>Střelice</td>\n",
       "      <td>a7ae280a-44f3-36cc-a6ce-8d5720ac4e37</td>\n",
       "      <td>4</td>\n",
       "      <td>2020-07-13 04:27:45</td>\n",
       "      <td>2020-07-13</td>\n",
       "      <td>Monday</td>\n",
       "      <td>4</td>\n",
       "      <td>15</td>\n",
       "      <td>27</td>\n",
       "    </tr>\n",
       "    <tr>\n",
       "      <th>4</th>\n",
       "      <td>1440208034</td>\n",
       "      <td>2020/07/13 02:26:06.591+00</td>\n",
       "      <td>5</td>\n",
       "      <td>-1</td>\n",
       "      <td>0</td>\n",
       "      <td>0.0</td>\n",
       "      <td>44</td>\n",
       "      <td>Okrouhlá</td>\n",
       "      <td>Brno</td>\n",
       "      <td>c2b5e9f5-8eef-3e08-9092-ba52f4726a62</td>\n",
       "      <td>5</td>\n",
       "      <td>2020-07-13 04:26:06</td>\n",
       "      <td>2020-07-13</td>\n",
       "      <td>Monday</td>\n",
       "      <td>4</td>\n",
       "      <td>15</td>\n",
       "      <td>26</td>\n",
       "    </tr>\n",
       "  </tbody>\n",
       "</table>\n",
       "</div>"
      ],
      "text/plain": [
       "         uuid                   pubMillis  level  delay  speed  speedKMH  \\\n",
       "0  1363839630  2020/07/13 02:26:04.341+00      5     -1      0       0.0   \n",
       "1  1388730276  2020/07/13 02:26:01.618+00      5     -1      0       0.0   \n",
       "2  1451737922  2020/07/13 02:26:03.702+00      5     -1      0       0.0   \n",
       "3  1388985166  2020/07/13 02:27:45.411+00      5     -1      0       0.0   \n",
       "4  1440208034  2020/07/13 02:26:06.591+00      5     -1      0       0.0   \n",
       "\n",
       "   length                street        city  \\\n",
       "0     162  » Centrum / Bohunice        Brno   \n",
       "1      45                Labská        Brno   \n",
       "2      52               U Dráhy  Ostopovice   \n",
       "3      19              Na Hrázi    Střelice   \n",
       "4      44              Okrouhlá        Brno   \n",
       "\n",
       "                      blockingAlertUuid  objectid            datumCas  \\\n",
       "0                                   NaN         1 2020-07-13 04:26:04   \n",
       "1  aff5a9d0-5b84-3878-94a5-4c8c39ccfe4c         2 2020-07-13 04:26:01   \n",
       "2  f5987a0c-c5e0-3064-ad5d-9d58b296b1d9         3 2020-07-13 04:26:03   \n",
       "3  a7ae280a-44f3-36cc-a6ce-8d5720ac4e37         4 2020-07-13 04:27:45   \n",
       "4  c2b5e9f5-8eef-3e08-9092-ba52f4726a62         5 2020-07-13 04:26:06   \n",
       "\n",
       "        datum weekdays  hours quarters  minutes  \n",
       "0  2020-07-13   Monday      4       15       26  \n",
       "1  2020-07-13   Monday      4       15       26  \n",
       "2  2020-07-13   Monday      4       15       26  \n",
       "3  2020-07-13   Monday      4       15       27  \n",
       "4  2020-07-13   Monday      4       15       26  "
      ]
     },
     "execution_count": 38,
     "metadata": {},
     "output_type": "execute_result"
    }
   ],
   "source": [
    "trafficJamsNoCoord.head()"
   ]
  },
  {
   "cell_type": "code",
   "execution_count": 39,
   "metadata": {},
   "outputs": [],
   "source": [
    "trafficJamsNoCoord.to_csv('trafficJamsNoCoord1.csv',encoding = \"utf-8\", index = False)"
   ]
  }
 ],
 "metadata": {
  "kernelspec": {
   "display_name": "Python 3",
   "language": "python",
   "name": "python3"
  },
  "language_info": {
   "codemirror_mode": {
    "name": "ipython",
    "version": 3
   },
   "file_extension": ".py",
   "mimetype": "text/x-python",
   "name": "python",
   "nbconvert_exporter": "python",
   "pygments_lexer": "ipython3",
   "version": "3.8.5"
  }
 },
 "nbformat": 4,
 "nbformat_minor": 4
}
