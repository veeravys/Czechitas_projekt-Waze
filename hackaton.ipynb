{
 "cells": [
  {
   "cell_type": "code",
   "execution_count": 1,
   "metadata": {},
   "outputs": [],
   "source": [
    "import pandas as pd\n",
    "import numpy as np\n",
    "import ast\n",
    "import geopy.geocoders\n",
    "from geopy.geocoders import Nominatim\n",
    "from geopy.extra.rate_limiter import RateLimiter"
   ]
  },
  {
   "cell_type": "markdown",
   "metadata": {},
   "source": [
    "# Vytvoření tabulky s geolokačními údaji (LineString, MultilineString) rozdělenými po jednotlivých bodech zvlášť na řádky"
   ]
  },
  {
   "cell_type": "markdown",
   "metadata": {},
   "source": [
    "načtení souboru, odmazání sloupce type, přejmenování názvů sloupců"
   ]
  },
  {
   "cell_type": "code",
   "execution_count": 2,
   "metadata": {},
   "outputs": [],
   "source": [
    "trafficDelaysDf = pd.read_csv('C:/Users/verav/Documents/Projekt/Python_projekt/plynulostVSE.csv')"
   ]
  },
  {
   "cell_type": "code",
   "execution_count": 3,
   "metadata": {},
   "outputs": [],
   "source": [
    "trafficDelaysDf = trafficDelaysDf.drop(columns = ['type'])\n",
    "trafficDelaysDf.columns = trafficDelaysDf.columns.str.replace('properties.','')\n",
    "trafficDelaysDf= trafficDelaysDf.rename(columns={'geometry.type':'coordType'})\n",
    "trafficDelaysDf= trafficDelaysDf.rename(columns={'geometry.coordinates':'coordinates'})"
   ]
  },
  {
   "cell_type": "markdown",
   "metadata": {},
   "source": [
    "převod souřadnic ze str na seznam seznamů"
   ]
  },
  {
   "cell_type": "code",
   "execution_count": 4,
   "metadata": {},
   "outputs": [],
   "source": [
    "coordList = []\n",
    "for i in trafficDelaysDf.index:\n",
    "    nestList = ast.literal_eval(trafficDelaysDf[\"coordinates\"][i])\n",
    "    coordList.append(nestList)\n",
    "trafficDelaysDf2 = trafficDelaysDf.copy() #tvorba kopie původní tabulky\n",
    "trafficDelaysDf2['coordinates']=coordList #náhrada původního sloupce coordinates"
   ]
  },
  {
   "cell_type": "code",
   "execution_count": 23,
   "metadata": {},
   "outputs": [
    {
     "data": {
      "text/html": [
       "<div>\n",
       "<style scoped>\n",
       "    .dataframe tbody tr th:only-of-type {\n",
       "        vertical-align: middle;\n",
       "    }\n",
       "\n",
       "    .dataframe tbody tr th {\n",
       "        vertical-align: top;\n",
       "    }\n",
       "\n",
       "    .dataframe thead th {\n",
       "        text-align: right;\n",
       "    }\n",
       "</style>\n",
       "<table border=\"1\" class=\"dataframe\">\n",
       "  <thead>\n",
       "    <tr style=\"text-align: right;\">\n",
       "      <th></th>\n",
       "      <th>uuid</th>\n",
       "      <th>pubMillis</th>\n",
       "      <th>level</th>\n",
       "      <th>delay</th>\n",
       "      <th>speed</th>\n",
       "      <th>speedKMH</th>\n",
       "      <th>length</th>\n",
       "      <th>street</th>\n",
       "      <th>endNode</th>\n",
       "      <th>city</th>\n",
       "      <th>country</th>\n",
       "      <th>type</th>\n",
       "      <th>roadType</th>\n",
       "      <th>turnType</th>\n",
       "      <th>blockingAlertUuid</th>\n",
       "      <th>objectid</th>\n",
       "      <th>globalid</th>\n",
       "      <th>coordType</th>\n",
       "      <th>coordinates</th>\n",
       "    </tr>\n",
       "  </thead>\n",
       "  <tbody>\n",
       "    <tr>\n",
       "      <th>0</th>\n",
       "      <td>1363839630</td>\n",
       "      <td>2020/07/13 02:26:04.341+00</td>\n",
       "      <td>5</td>\n",
       "      <td>-1</td>\n",
       "      <td>0</td>\n",
       "      <td>NaN</td>\n",
       "      <td>162</td>\n",
       "      <td>» Centrum / Bohunice</td>\n",
       "      <td>NaN</td>\n",
       "      <td>Brno</td>\n",
       "      <td>EZ</td>\n",
       "      <td>NONE</td>\n",
       "      <td>4</td>\n",
       "      <td>NONE</td>\n",
       "      <td>NaN</td>\n",
       "      <td>1</td>\n",
       "      <td>{DBAD85B2-B703-9D6C-CAD9-160A683F236F}</td>\n",
       "      <td>LineString</td>\n",
       "      <td>[[16.558271, 49.171838], [16.558371, 49.17184]...</td>\n",
       "    </tr>\n",
       "    <tr>\n",
       "      <th>1</th>\n",
       "      <td>1388730276</td>\n",
       "      <td>2020/07/13 02:26:01.618+00</td>\n",
       "      <td>5</td>\n",
       "      <td>-1</td>\n",
       "      <td>0</td>\n",
       "      <td>NaN</td>\n",
       "      <td>45</td>\n",
       "      <td>NaN</td>\n",
       "      <td>NaN</td>\n",
       "      <td>Brno</td>\n",
       "      <td>EZ</td>\n",
       "      <td>NONE</td>\n",
       "      <td>20</td>\n",
       "      <td>NONE</td>\n",
       "      <td>aff5a9d0-5b84-3878-94a5-4c8c39ccfe4c</td>\n",
       "      <td>2</td>\n",
       "      <td>{988271DB-76D7-305B-2CDB-84D662DB0287}</td>\n",
       "      <td>LineString</td>\n",
       "      <td>[[16.567145, 49.171995], [16.567112, 49.171732...</td>\n",
       "    </tr>\n",
       "    <tr>\n",
       "      <th>2</th>\n",
       "      <td>1451737922</td>\n",
       "      <td>2020/07/13 02:26:03.702+00</td>\n",
       "      <td>5</td>\n",
       "      <td>-1</td>\n",
       "      <td>0</td>\n",
       "      <td>NaN</td>\n",
       "      <td>52</td>\n",
       "      <td>U Dráhy</td>\n",
       "      <td>NaN</td>\n",
       "      <td>Ostopovice</td>\n",
       "      <td>EZ</td>\n",
       "      <td>NONE</td>\n",
       "      <td>1</td>\n",
       "      <td>NONE</td>\n",
       "      <td>f5987a0c-c5e0-3064-ad5d-9d58b296b1d9</td>\n",
       "      <td>3</td>\n",
       "      <td>{45B64E51-1EA0-BCB3-BEF6-D79B9FD498FC}</td>\n",
       "      <td>LineString</td>\n",
       "      <td>[[16.544367, 49.16387], [16.544937, 49.163597]]</td>\n",
       "    </tr>\n",
       "    <tr>\n",
       "      <th>3</th>\n",
       "      <td>1388985166</td>\n",
       "      <td>2020/07/13 02:27:45.411+00</td>\n",
       "      <td>5</td>\n",
       "      <td>-1</td>\n",
       "      <td>0</td>\n",
       "      <td>NaN</td>\n",
       "      <td>19</td>\n",
       "      <td>Na Hrázi</td>\n",
       "      <td>NaN</td>\n",
       "      <td>Střelice</td>\n",
       "      <td>EZ</td>\n",
       "      <td>NONE</td>\n",
       "      <td>1</td>\n",
       "      <td>NONE</td>\n",
       "      <td>a7ae280a-44f3-36cc-a6ce-8d5720ac4e37</td>\n",
       "      <td>4</td>\n",
       "      <td>{4BE78E6E-7162-7B43-A291-0A02B59D2BD6}</td>\n",
       "      <td>LineString</td>\n",
       "      <td>[[16.501287, 49.153107], [16.501311, 49.153273]]</td>\n",
       "    </tr>\n",
       "    <tr>\n",
       "      <th>4</th>\n",
       "      <td>1440208034</td>\n",
       "      <td>2020/07/13 02:26:06.591+00</td>\n",
       "      <td>5</td>\n",
       "      <td>-1</td>\n",
       "      <td>0</td>\n",
       "      <td>NaN</td>\n",
       "      <td>44</td>\n",
       "      <td>NaN</td>\n",
       "      <td>NaN</td>\n",
       "      <td>Brno</td>\n",
       "      <td>EZ</td>\n",
       "      <td>NONE</td>\n",
       "      <td>20</td>\n",
       "      <td>NONE</td>\n",
       "      <td>c2b5e9f5-8eef-3e08-9092-ba52f4726a62</td>\n",
       "      <td>5</td>\n",
       "      <td>{25B0DAE6-5F52-657F-50D9-4E20B8F16303}</td>\n",
       "      <td>LineString</td>\n",
       "      <td>[[16.565195, 49.168989], [16.565247, 49.169382]]</td>\n",
       "    </tr>\n",
       "  </tbody>\n",
       "</table>\n",
       "</div>"
      ],
      "text/plain": [
       "         uuid                   pubMillis  level  delay  speed  speedKMH  \\\n",
       "0  1363839630  2020/07/13 02:26:04.341+00      5     -1      0       NaN   \n",
       "1  1388730276  2020/07/13 02:26:01.618+00      5     -1      0       NaN   \n",
       "2  1451737922  2020/07/13 02:26:03.702+00      5     -1      0       NaN   \n",
       "3  1388985166  2020/07/13 02:27:45.411+00      5     -1      0       NaN   \n",
       "4  1440208034  2020/07/13 02:26:06.591+00      5     -1      0       NaN   \n",
       "\n",
       "   length                street endNode        city country  type  roadType  \\\n",
       "0     162  » Centrum / Bohunice     NaN        Brno      EZ  NONE         4   \n",
       "1      45                   NaN     NaN        Brno      EZ  NONE        20   \n",
       "2      52               U Dráhy     NaN  Ostopovice      EZ  NONE         1   \n",
       "3      19              Na Hrázi     NaN    Střelice      EZ  NONE         1   \n",
       "4      44                   NaN     NaN        Brno      EZ  NONE        20   \n",
       "\n",
       "  turnType                     blockingAlertUuid  objectid  \\\n",
       "0     NONE                                   NaN         1   \n",
       "1     NONE  aff5a9d0-5b84-3878-94a5-4c8c39ccfe4c         2   \n",
       "2     NONE  f5987a0c-c5e0-3064-ad5d-9d58b296b1d9         3   \n",
       "3     NONE  a7ae280a-44f3-36cc-a6ce-8d5720ac4e37         4   \n",
       "4     NONE  c2b5e9f5-8eef-3e08-9092-ba52f4726a62         5   \n",
       "\n",
       "                                 globalid   coordType  \\\n",
       "0  {DBAD85B2-B703-9D6C-CAD9-160A683F236F}  LineString   \n",
       "1  {988271DB-76D7-305B-2CDB-84D662DB0287}  LineString   \n",
       "2  {45B64E51-1EA0-BCB3-BEF6-D79B9FD498FC}  LineString   \n",
       "3  {4BE78E6E-7162-7B43-A291-0A02B59D2BD6}  LineString   \n",
       "4  {25B0DAE6-5F52-657F-50D9-4E20B8F16303}  LineString   \n",
       "\n",
       "                                         coordinates  \n",
       "0  [[16.558271, 49.171838], [16.558371, 49.17184]...  \n",
       "1  [[16.567145, 49.171995], [16.567112, 49.171732...  \n",
       "2    [[16.544367, 49.16387], [16.544937, 49.163597]]  \n",
       "3   [[16.501287, 49.153107], [16.501311, 49.153273]]  \n",
       "4   [[16.565195, 49.168989], [16.565247, 49.169382]]  "
      ]
     },
     "execution_count": 23,
     "metadata": {},
     "output_type": "execute_result"
    }
   ],
   "source": [
    "trafficDelaysDf2.head()"
   ]
  },
  {
   "cell_type": "markdown",
   "metadata": {},
   "source": [
    "rozšíření tabulky o řádky s jednotlivými souřadnicemi"
   ]
  },
  {
   "cell_type": "code",
   "execution_count": 6,
   "metadata": {},
   "outputs": [],
   "source": [
    "newList = []\n",
    "allrows =trafficDelaysDf2.values.tolist()#prevod hodnot v tabulce na seznam allrows\n",
    "for line in allrows:\n",
    "    newList += [line[:-1] + [coor] for coor in line[-1]] #kod od Martina, list comprehension misto explode\n",
    "\n",
    "newListMulti = [] # další zanoření pro multilinestring\n",
    "for line in newList:\n",
    "    if 'MultiLineString' in line:\n",
    "        newListMulti += [line[:-1] + [coor] for coor in line[-1]]\n",
    "    else:\n",
    "        newListMulti.append(line)"
   ]
  },
  {
   "cell_type": "markdown",
   "metadata": {},
   "source": [
    "dataFrame3 ze seznamu"
   ]
  },
  {
   "cell_type": "code",
   "execution_count": null,
   "metadata": {},
   "outputs": [],
   "source": [
    "trafficDelaysDf3= pd.DataFrame(newListMulti)\n",
    "trafficDelaysDf3.head()\n",
    "#výpis hodnot sloupce coordinates pro multilinestring\n",
    "#trafficDelaysDf3[18][trafficDelaysDf3[17]=='MultiLineString'].head()\n"
   ]
  },
  {
   "cell_type": "markdown",
   "metadata": {},
   "source": [
    "přiřazení původních názvů sloupců a kontrola"
   ]
  },
  {
   "cell_type": "code",
   "execution_count": 26,
   "metadata": {},
   "outputs": [],
   "source": [
    "trafficDelaysDf3.columns =trafficDelaysDf.columns"
   ]
  },
  {
   "cell_type": "code",
   "execution_count": 27,
   "metadata": {},
   "outputs": [
    {
     "data": {
      "text/html": [
       "<div>\n",
       "<style scoped>\n",
       "    .dataframe tbody tr th:only-of-type {\n",
       "        vertical-align: middle;\n",
       "    }\n",
       "\n",
       "    .dataframe tbody tr th {\n",
       "        vertical-align: top;\n",
       "    }\n",
       "\n",
       "    .dataframe thead th {\n",
       "        text-align: right;\n",
       "    }\n",
       "</style>\n",
       "<table border=\"1\" class=\"dataframe\">\n",
       "  <thead>\n",
       "    <tr style=\"text-align: right;\">\n",
       "      <th></th>\n",
       "      <th>uuid</th>\n",
       "      <th>pubMillis</th>\n",
       "      <th>level</th>\n",
       "      <th>delay</th>\n",
       "      <th>speed</th>\n",
       "      <th>speedKMH</th>\n",
       "      <th>length</th>\n",
       "      <th>street</th>\n",
       "      <th>endNode</th>\n",
       "      <th>city</th>\n",
       "      <th>country</th>\n",
       "      <th>type</th>\n",
       "      <th>roadType</th>\n",
       "      <th>turnType</th>\n",
       "      <th>blockingAlertUuid</th>\n",
       "      <th>objectid</th>\n",
       "      <th>globalid</th>\n",
       "      <th>coordType</th>\n",
       "      <th>coordinates</th>\n",
       "    </tr>\n",
       "  </thead>\n",
       "  <tbody>\n",
       "    <tr>\n",
       "      <th>0</th>\n",
       "      <td>1363839630</td>\n",
       "      <td>2020/07/13 02:26:04.341+00</td>\n",
       "      <td>5</td>\n",
       "      <td>-1</td>\n",
       "      <td>0</td>\n",
       "      <td>NaN</td>\n",
       "      <td>162</td>\n",
       "      <td>» Centrum / Bohunice</td>\n",
       "      <td>NaN</td>\n",
       "      <td>Brno</td>\n",
       "      <td>EZ</td>\n",
       "      <td>NONE</td>\n",
       "      <td>4</td>\n",
       "      <td>NONE</td>\n",
       "      <td>NaN</td>\n",
       "      <td>1</td>\n",
       "      <td>{DBAD85B2-B703-9D6C-CAD9-160A683F236F}</td>\n",
       "      <td>LineString</td>\n",
       "      <td>[16.558271, 49.171838]</td>\n",
       "    </tr>\n",
       "    <tr>\n",
       "      <th>1</th>\n",
       "      <td>1363839630</td>\n",
       "      <td>2020/07/13 02:26:04.341+00</td>\n",
       "      <td>5</td>\n",
       "      <td>-1</td>\n",
       "      <td>0</td>\n",
       "      <td>NaN</td>\n",
       "      <td>162</td>\n",
       "      <td>» Centrum / Bohunice</td>\n",
       "      <td>NaN</td>\n",
       "      <td>Brno</td>\n",
       "      <td>EZ</td>\n",
       "      <td>NONE</td>\n",
       "      <td>4</td>\n",
       "      <td>NONE</td>\n",
       "      <td>NaN</td>\n",
       "      <td>1</td>\n",
       "      <td>{DBAD85B2-B703-9D6C-CAD9-160A683F236F}</td>\n",
       "      <td>LineString</td>\n",
       "      <td>[16.558371, 49.17184]</td>\n",
       "    </tr>\n",
       "    <tr>\n",
       "      <th>2</th>\n",
       "      <td>1363839630</td>\n",
       "      <td>2020/07/13 02:26:04.341+00</td>\n",
       "      <td>5</td>\n",
       "      <td>-1</td>\n",
       "      <td>0</td>\n",
       "      <td>NaN</td>\n",
       "      <td>162</td>\n",
       "      <td>» Centrum / Bohunice</td>\n",
       "      <td>NaN</td>\n",
       "      <td>Brno</td>\n",
       "      <td>EZ</td>\n",
       "      <td>NONE</td>\n",
       "      <td>4</td>\n",
       "      <td>NONE</td>\n",
       "      <td>NaN</td>\n",
       "      <td>1</td>\n",
       "      <td>{DBAD85B2-B703-9D6C-CAD9-160A683F236F}</td>\n",
       "      <td>LineString</td>\n",
       "      <td>[16.560043, 49.172452]</td>\n",
       "    </tr>\n",
       "    <tr>\n",
       "      <th>3</th>\n",
       "      <td>1363839630</td>\n",
       "      <td>2020/07/13 02:26:04.341+00</td>\n",
       "      <td>5</td>\n",
       "      <td>-1</td>\n",
       "      <td>0</td>\n",
       "      <td>NaN</td>\n",
       "      <td>162</td>\n",
       "      <td>» Centrum / Bohunice</td>\n",
       "      <td>NaN</td>\n",
       "      <td>Brno</td>\n",
       "      <td>EZ</td>\n",
       "      <td>NONE</td>\n",
       "      <td>4</td>\n",
       "      <td>NONE</td>\n",
       "      <td>NaN</td>\n",
       "      <td>1</td>\n",
       "      <td>{DBAD85B2-B703-9D6C-CAD9-160A683F236F}</td>\n",
       "      <td>LineString</td>\n",
       "      <td>[16.560231, 49.172505]</td>\n",
       "    </tr>\n",
       "    <tr>\n",
       "      <th>4</th>\n",
       "      <td>1388730276</td>\n",
       "      <td>2020/07/13 02:26:01.618+00</td>\n",
       "      <td>5</td>\n",
       "      <td>-1</td>\n",
       "      <td>0</td>\n",
       "      <td>NaN</td>\n",
       "      <td>45</td>\n",
       "      <td>NaN</td>\n",
       "      <td>NaN</td>\n",
       "      <td>Brno</td>\n",
       "      <td>EZ</td>\n",
       "      <td>NONE</td>\n",
       "      <td>20</td>\n",
       "      <td>NONE</td>\n",
       "      <td>aff5a9d0-5b84-3878-94a5-4c8c39ccfe4c</td>\n",
       "      <td>2</td>\n",
       "      <td>{988271DB-76D7-305B-2CDB-84D662DB0287}</td>\n",
       "      <td>LineString</td>\n",
       "      <td>[16.567145, 49.171995]</td>\n",
       "    </tr>\n",
       "  </tbody>\n",
       "</table>\n",
       "</div>"
      ],
      "text/plain": [
       "         uuid                   pubMillis  level  delay  speed  speedKMH  \\\n",
       "0  1363839630  2020/07/13 02:26:04.341+00      5     -1      0       NaN   \n",
       "1  1363839630  2020/07/13 02:26:04.341+00      5     -1      0       NaN   \n",
       "2  1363839630  2020/07/13 02:26:04.341+00      5     -1      0       NaN   \n",
       "3  1363839630  2020/07/13 02:26:04.341+00      5     -1      0       NaN   \n",
       "4  1388730276  2020/07/13 02:26:01.618+00      5     -1      0       NaN   \n",
       "\n",
       "   length                street endNode  city country  type  roadType  \\\n",
       "0     162  » Centrum / Bohunice     NaN  Brno      EZ  NONE         4   \n",
       "1     162  » Centrum / Bohunice     NaN  Brno      EZ  NONE         4   \n",
       "2     162  » Centrum / Bohunice     NaN  Brno      EZ  NONE         4   \n",
       "3     162  » Centrum / Bohunice     NaN  Brno      EZ  NONE         4   \n",
       "4      45                   NaN     NaN  Brno      EZ  NONE        20   \n",
       "\n",
       "  turnType                     blockingAlertUuid  objectid  \\\n",
       "0     NONE                                   NaN         1   \n",
       "1     NONE                                   NaN         1   \n",
       "2     NONE                                   NaN         1   \n",
       "3     NONE                                   NaN         1   \n",
       "4     NONE  aff5a9d0-5b84-3878-94a5-4c8c39ccfe4c         2   \n",
       "\n",
       "                                 globalid   coordType             coordinates  \n",
       "0  {DBAD85B2-B703-9D6C-CAD9-160A683F236F}  LineString  [16.558271, 49.171838]  \n",
       "1  {DBAD85B2-B703-9D6C-CAD9-160A683F236F}  LineString   [16.558371, 49.17184]  \n",
       "2  {DBAD85B2-B703-9D6C-CAD9-160A683F236F}  LineString  [16.560043, 49.172452]  \n",
       "3  {DBAD85B2-B703-9D6C-CAD9-160A683F236F}  LineString  [16.560231, 49.172505]  \n",
       "4  {988271DB-76D7-305B-2CDB-84D662DB0287}  LineString  [16.567145, 49.171995]  "
      ]
     },
     "execution_count": 27,
     "metadata": {},
     "output_type": "execute_result"
    }
   ],
   "source": [
    "trafficDelaysDf3.shape\n",
    "trafficDelaysDf3.head()"
   ]
  },
  {
   "cell_type": "markdown",
   "metadata": {},
   "source": [
    "kontrolní tabulka před rozšířením o multilinestring"
   ]
  },
  {
   "cell_type": "code",
   "execution_count": 10,
   "metadata": {},
   "outputs": [
    {
     "data": {
      "text/plain": [
       "(1316407, 19)"
      ]
     },
     "execution_count": 10,
     "metadata": {},
     "output_type": "execute_result"
    }
   ],
   "source": [
    "trafficDelaysDf4= pd.DataFrame(newList)\n",
    "trafficDelaysDf4.shape"
   ]
  },
  {
   "cell_type": "markdown",
   "metadata": {},
   "source": [
    "uložení tabulky df3 do csv v kompletní a zkrácené verzi"
   ]
  },
  {
   "cell_type": "code",
   "execution_count": null,
   "metadata": {},
   "outputs": [],
   "source": [
    "trafficDelaysDf3.to_csv('trafficDf3.csv')\n",
    "trafficDelaysDf3.head(1000).to_csv('trafficDf_1000.csv')"
   ]
  },
  {
   "cell_type": "markdown",
   "metadata": {},
   "source": [
    "## PŘÍPRAVA pro přiřazení názvů ulic podle souřadnic"
   ]
  },
  {
   "cell_type": "code",
   "execution_count": 11,
   "metadata": {},
   "outputs": [],
   "source": [
    "geopy.geocoders.options.default_user_agent = 'Mozilla/5.0'\n",
    "geolocator = Nominatim()"
   ]
  },
  {
   "cell_type": "code",
   "execution_count": 12,
   "metadata": {},
   "outputs": [
    {
     "data": {
      "text/plain": [
       "float"
      ]
     },
     "execution_count": 12,
     "metadata": {},
     "output_type": "execute_result"
    }
   ],
   "source": [
    "type(trafficDelaysDf3['coordinates'][0][0])"
   ]
  },
  {
   "cell_type": "markdown",
   "metadata": {},
   "source": [
    "načtení zestručněné tabulky trafficDelaysDf (pouze uuid a coordinates)"
   ]
  },
  {
   "cell_type": "code",
   "execution_count": 17,
   "metadata": {},
   "outputs": [],
   "source": [
    "trafficDelaysCoord = pd.read_csv(\"coord_uuid.csv\")"
   ]
  },
  {
   "cell_type": "markdown",
   "metadata": {},
   "source": [
    "nahrazení NaN ve sloupci street v původní tabulce \"ničím\""
   ]
  },
  {
   "cell_type": "code",
   "execution_count": 14,
   "metadata": {},
   "outputs": [],
   "source": [
    "trafficDelaysDf[\"street\"].fillna('', inplace=True)"
   ]
  },
  {
   "cell_type": "code",
   "execution_count": 15,
   "metadata": {},
   "outputs": [
    {
     "data": {
      "text/plain": [
       "0    » Centrum / Bohunice\n",
       "1                        \n",
       "2                 U Dráhy\n",
       "3                Na Hrázi\n",
       "4                        \n",
       "Name: street, dtype: object"
      ]
     },
     "execution_count": 15,
     "metadata": {},
     "output_type": "execute_result"
    }
   ],
   "source": [
    "trafficDelaysDf[\"street\"].head()"
   ]
  },
  {
   "cell_type": "markdown",
   "metadata": {},
   "source": [
    "streetNaN - výpis sloupce uuid pro podmínku, kde street je prázdná"
   ]
  },
  {
   "cell_type": "code",
   "execution_count": 18,
   "metadata": {},
   "outputs": [],
   "source": [
    "streetNaN = trafficDelaysDf[\"uuid\"][trafficDelaysDf[\"street\"]==\"\"]"
   ]
  },
  {
   "cell_type": "code",
   "execution_count": null,
   "metadata": {},
   "outputs": [],
   "source": [
    "trafficDelaysCoord[\"uuid\"].isin(streetNaN)\n"
   ]
  },
  {
   "cell_type": "markdown",
   "metadata": {},
   "source": [
    "tabulka prázdných ulic"
   ]
  },
  {
   "cell_type": "code",
   "execution_count": 20,
   "metadata": {},
   "outputs": [
    {
     "data": {
      "text/html": [
       "<div>\n",
       "<style scoped>\n",
       "    .dataframe tbody tr th:only-of-type {\n",
       "        vertical-align: middle;\n",
       "    }\n",
       "\n",
       "    .dataframe tbody tr th {\n",
       "        vertical-align: top;\n",
       "    }\n",
       "\n",
       "    .dataframe thead th {\n",
       "        text-align: right;\n",
       "    }\n",
       "</style>\n",
       "<table border=\"1\" class=\"dataframe\">\n",
       "  <thead>\n",
       "    <tr style=\"text-align: right;\">\n",
       "      <th></th>\n",
       "      <th>uuid</th>\n",
       "      <th>coordinates</th>\n",
       "    </tr>\n",
       "  </thead>\n",
       "  <tbody>\n",
       "    <tr>\n",
       "      <th>1</th>\n",
       "      <td>1388730276</td>\n",
       "      <td>[16.567145, 49.171995]</td>\n",
       "    </tr>\n",
       "    <tr>\n",
       "      <th>4</th>\n",
       "      <td>1440208034</td>\n",
       "      <td>[16.565195, 49.168989]</td>\n",
       "    </tr>\n",
       "    <tr>\n",
       "      <th>5</th>\n",
       "      <td>1370182069</td>\n",
       "      <td>[16.567319, 49.17172]</td>\n",
       "    </tr>\n",
       "    <tr>\n",
       "      <th>6</th>\n",
       "      <td>1415306095</td>\n",
       "      <td>[16.565247, 49.169382]</td>\n",
       "    </tr>\n",
       "    <tr>\n",
       "      <th>8</th>\n",
       "      <td>1415188035</td>\n",
       "      <td>[16.565195, 49.168989]</td>\n",
       "    </tr>\n",
       "  </tbody>\n",
       "</table>\n",
       "</div>"
      ],
      "text/plain": [
       "         uuid             coordinates\n",
       "1  1388730276  [16.567145, 49.171995]\n",
       "4  1440208034  [16.565195, 49.168989]\n",
       "5  1370182069   [16.567319, 49.17172]\n",
       "6  1415306095  [16.565247, 49.169382]\n",
       "8  1415188035  [16.565195, 49.168989]"
      ]
     },
     "execution_count": 20,
     "metadata": {},
     "output_type": "execute_result"
    }
   ],
   "source": [
    "trafficDelaysCoordNaN = trafficDelaysCoord[trafficDelaysCoord[\"uuid\"].isin(streetNaN)]\n",
    "trafficDelaysCoordNaN.head()\n",
    "#trafficDelaysCoordNaN.to_csv('missing.csv')"
   ]
  },
  {
   "cell_type": "markdown",
   "metadata": {},
   "source": [
    "script pro přiřazení názvů - 1.kolo (podle první souřadnice v seznamu)"
   ]
  },
  {
   "cell_type": "code",
   "execution_count": null,
   "metadata": {
    "scrolled": false
   },
   "outputs": [],
   "source": [
    "streetList = []\n",
    "for rows in trafficDelaysCoordNaN['coordinates']:\n",
    "    souradnice = str(row[1])+','+ str(row[0])  \n",
    "    location = geolocator.geocode(souradnice, language = \"cz\")\n",
    "    nazev = location.raw['display_name']\n",
    "    ulice = nazev.split(\",\")\n",
    "    if len(ulice) == 9:\n",
    "        streetList.append(ulice[1])\n",
    "    elif len(ulice) == 8:\n",
    "        streetList.append(ulice[0])\n",
    "    else:\n",
    "        streetList.append(ulice)\n",
    "    \n",
    "    #druhý způsob geocoding, řešeno v streetNames.ipynb:   \n",
    "    #geocode = RateLimiter(geolocator.geocode, min_delay_seconds=1)\n",
    "    #df['location'] = df['name'].apply(geocode)"
   ]
  }
 ],
 "metadata": {
  "kernelspec": {
   "display_name": "Python 3",
   "language": "python",
   "name": "python3"
  },
  "language_info": {
   "codemirror_mode": {
    "name": "ipython",
    "version": 3
   },
   "file_extension": ".py",
   "mimetype": "text/x-python",
   "name": "python",
   "nbconvert_exporter": "python",
   "pygments_lexer": "ipython3",
   "version": "3.8.5"
  }
 },
 "nbformat": 4,
 "nbformat_minor": 4
}
