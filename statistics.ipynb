{
 "cells": [
  {
   "cell_type": "code",
   "execution_count": 1,
   "metadata": {},
   "outputs": [],
   "source": [
    "import pandas as pd\n",
    "import numpy as np\n",
    "from datetime import timedelta\n",
    "import matplotlib\n",
    "from pandas.plotting import scatter_matrix\n",
    "from datetime import datetime, timedelta\n",
    "from scipy.stats import shapiro, pearsonr"
   ]
  },
  {
   "cell_type": "markdown",
   "metadata": {},
   "source": [
    "## Traffic jams,alerts,wazers - Statistics"
   ]
  },
  {
   "cell_type": "markdown",
   "metadata": {},
   "source": [
    "Traffic jams groupby datum a hours, spojení s \"kalendářem\" 13.7.-8.10.2020"
   ]
  },
  {
   "cell_type": "markdown",
   "metadata": {},
   "source": [
    "vytvoření kalendáře"
   ]
  },
  {
   "cell_type": "code",
   "execution_count": 21,
   "metadata": {},
   "outputs": [],
   "source": [
    "base = datetime.strptime('2020-07-13 00:00:00', '%Y-%m-%d %H:%M:%S')\n",
    "date_list = [base + timedelta(hours=x) for x in range(2103)]"
   ]
  },
  {
   "cell_type": "code",
   "execution_count": 22,
   "metadata": {},
   "outputs": [],
   "source": [
    "calendar = pd.DataFrame(date_list, columns = ['dateTime'])"
   ]
  },
  {
   "cell_type": "code",
   "execution_count": 23,
   "metadata": {},
   "outputs": [],
   "source": [
    "def date(vstup):\n",
    "    return vstup.date()"
   ]
  },
  {
   "cell_type": "code",
   "execution_count": 24,
   "metadata": {},
   "outputs": [],
   "source": [
    "def hour(vstup):\n",
    "    return vstup.hour"
   ]
  },
  {
   "cell_type": "code",
   "execution_count": 25,
   "metadata": {
    "scrolled": true
   },
   "outputs": [
    {
     "data": {
      "text/html": [
       "<div>\n",
       "<style scoped>\n",
       "    .dataframe tbody tr th:only-of-type {\n",
       "        vertical-align: middle;\n",
       "    }\n",
       "\n",
       "    .dataframe tbody tr th {\n",
       "        vertical-align: top;\n",
       "    }\n",
       "\n",
       "    .dataframe thead th {\n",
       "        text-align: right;\n",
       "    }\n",
       "</style>\n",
       "<table border=\"1\" class=\"dataframe\">\n",
       "  <thead>\n",
       "    <tr style=\"text-align: right;\">\n",
       "      <th></th>\n",
       "      <th>dateTime</th>\n",
       "      <th>datum</th>\n",
       "      <th>hour</th>\n",
       "    </tr>\n",
       "  </thead>\n",
       "  <tbody>\n",
       "    <tr>\n",
       "      <th>0</th>\n",
       "      <td>2020-07-13 00:00:00</td>\n",
       "      <td>2020-07-13</td>\n",
       "      <td>0</td>\n",
       "    </tr>\n",
       "    <tr>\n",
       "      <th>1</th>\n",
       "      <td>2020-07-13 01:00:00</td>\n",
       "      <td>2020-07-13</td>\n",
       "      <td>1</td>\n",
       "    </tr>\n",
       "    <tr>\n",
       "      <th>2</th>\n",
       "      <td>2020-07-13 02:00:00</td>\n",
       "      <td>2020-07-13</td>\n",
       "      <td>2</td>\n",
       "    </tr>\n",
       "    <tr>\n",
       "      <th>3</th>\n",
       "      <td>2020-07-13 03:00:00</td>\n",
       "      <td>2020-07-13</td>\n",
       "      <td>3</td>\n",
       "    </tr>\n",
       "    <tr>\n",
       "      <th>4</th>\n",
       "      <td>2020-07-13 04:00:00</td>\n",
       "      <td>2020-07-13</td>\n",
       "      <td>4</td>\n",
       "    </tr>\n",
       "    <tr>\n",
       "      <th>...</th>\n",
       "      <td>...</td>\n",
       "      <td>...</td>\n",
       "      <td>...</td>\n",
       "    </tr>\n",
       "    <tr>\n",
       "      <th>2098</th>\n",
       "      <td>2020-10-08 10:00:00</td>\n",
       "      <td>2020-10-08</td>\n",
       "      <td>10</td>\n",
       "    </tr>\n",
       "    <tr>\n",
       "      <th>2099</th>\n",
       "      <td>2020-10-08 11:00:00</td>\n",
       "      <td>2020-10-08</td>\n",
       "      <td>11</td>\n",
       "    </tr>\n",
       "    <tr>\n",
       "      <th>2100</th>\n",
       "      <td>2020-10-08 12:00:00</td>\n",
       "      <td>2020-10-08</td>\n",
       "      <td>12</td>\n",
       "    </tr>\n",
       "    <tr>\n",
       "      <th>2101</th>\n",
       "      <td>2020-10-08 13:00:00</td>\n",
       "      <td>2020-10-08</td>\n",
       "      <td>13</td>\n",
       "    </tr>\n",
       "    <tr>\n",
       "      <th>2102</th>\n",
       "      <td>2020-10-08 14:00:00</td>\n",
       "      <td>2020-10-08</td>\n",
       "      <td>14</td>\n",
       "    </tr>\n",
       "  </tbody>\n",
       "</table>\n",
       "<p>2103 rows × 3 columns</p>\n",
       "</div>"
      ],
      "text/plain": [
       "                dateTime       datum  hour\n",
       "0    2020-07-13 00:00:00  2020-07-13     0\n",
       "1    2020-07-13 01:00:00  2020-07-13     1\n",
       "2    2020-07-13 02:00:00  2020-07-13     2\n",
       "3    2020-07-13 03:00:00  2020-07-13     3\n",
       "4    2020-07-13 04:00:00  2020-07-13     4\n",
       "...                  ...         ...   ...\n",
       "2098 2020-10-08 10:00:00  2020-10-08    10\n",
       "2099 2020-10-08 11:00:00  2020-10-08    11\n",
       "2100 2020-10-08 12:00:00  2020-10-08    12\n",
       "2101 2020-10-08 13:00:00  2020-10-08    13\n",
       "2102 2020-10-08 14:00:00  2020-10-08    14\n",
       "\n",
       "[2103 rows x 3 columns]"
      ]
     },
     "execution_count": 25,
     "metadata": {},
     "output_type": "execute_result"
    }
   ],
   "source": [
    "calendar['datum'] = calendar['dateTime'].apply(date)\n",
    "calendar['hour'] = calendar['dateTime'].apply(hour)\n",
    "calendar"
   ]
  },
  {
   "cell_type": "code",
   "execution_count": 27,
   "metadata": {},
   "outputs": [],
   "source": [
    "jamsGroupDf = pd.read_csv('jamsGroupDf.csv', encoding = 'UTF-8')"
   ]
  },
  {
   "cell_type": "code",
   "execution_count": 29,
   "metadata": {},
   "outputs": [],
   "source": [
    "alertsGroupDf = pd.read_csv('alertsGroupDfh.csv', encoding = 'UTF-8')"
   ]
  },
  {
   "cell_type": "code",
   "execution_count": 30,
   "metadata": {},
   "outputs": [],
   "source": [
    "maxWazers = pd.read_csv('maxWazersh.csv', encoding = 'UTF-8')"
   ]
  },
  {
   "cell_type": "code",
   "execution_count": 31,
   "metadata": {},
   "outputs": [],
   "source": [
    "jamsGroupDf['datum'] = pd.to_datetime(jamsGroupDf['datum']).apply(date)\n",
    "jamsGroupDf = jamsGroupDf.rename(columns={'hours':'hour', 'uuid':'jamsCount'})"
   ]
  },
  {
   "cell_type": "code",
   "execution_count": 32,
   "metadata": {},
   "outputs": [],
   "source": [
    "alertsGroupDf['datum'] = pd.to_datetime(alertsGroupDf['datum']).apply(date)\n",
    "alertsGroupDf = alertsGroupDf.rename(columns={'hours':'hour', 'alertID':'alertsCount'})"
   ]
  },
  {
   "cell_type": "code",
   "execution_count": 33,
   "metadata": {},
   "outputs": [],
   "source": [
    "maxWazers['datum']=pd.to_datetime(maxWazers['datum'])"
   ]
  },
  {
   "cell_type": "code",
   "execution_count": 34,
   "metadata": {
    "scrolled": true
   },
   "outputs": [],
   "source": [
    "calendarDf = calendar.merge(jamsGroupDf, how = 'left', on = ['datum','hour']).merge(alertsGroupDf, how = 'left', on =['datum','hour'])"
   ]
  },
  {
   "cell_type": "code",
   "execution_count": 36,
   "metadata": {},
   "outputs": [],
   "source": [
    "calendarDf['datum']=pd.to_datetime(calendarDf['datum'])"
   ]
  },
  {
   "cell_type": "code",
   "execution_count": 37,
   "metadata": {
    "scrolled": true
   },
   "outputs": [],
   "source": [
    "jAwDf = pd.merge(calendarDf,maxWazers,how='left', on = ['datum','hour'])"
   ]
  },
  {
   "cell_type": "code",
   "execution_count": 41,
   "metadata": {},
   "outputs": [],
   "source": [
    "jAwDf['jamsCount'] = jAwDf['jamsCount'].fillna(0)\n",
    "jAwDf['alertsCount'] = jAwDf['alertsCount'].fillna(0) "
   ]
  },
  {
   "cell_type": "code",
   "execution_count": 42,
   "metadata": {},
   "outputs": [
    {
     "data": {
      "text/html": [
       "<div>\n",
       "<style scoped>\n",
       "    .dataframe tbody tr th:only-of-type {\n",
       "        vertical-align: middle;\n",
       "    }\n",
       "\n",
       "    .dataframe tbody tr th {\n",
       "        vertical-align: top;\n",
       "    }\n",
       "\n",
       "    .dataframe thead th {\n",
       "        text-align: right;\n",
       "    }\n",
       "</style>\n",
       "<table border=\"1\" class=\"dataframe\">\n",
       "  <thead>\n",
       "    <tr style=\"text-align: right;\">\n",
       "      <th></th>\n",
       "      <th>dateTime</th>\n",
       "      <th>datum</th>\n",
       "      <th>hour</th>\n",
       "      <th>jamsCount</th>\n",
       "      <th>alertsCount</th>\n",
       "      <th>wazers</th>\n",
       "    </tr>\n",
       "  </thead>\n",
       "  <tbody>\n",
       "    <tr>\n",
       "      <th>0</th>\n",
       "      <td>2020-07-13 00:00:00</td>\n",
       "      <td>2020-07-13</td>\n",
       "      <td>0</td>\n",
       "      <td>0.0</td>\n",
       "      <td>0.0</td>\n",
       "      <td>153.0</td>\n",
       "    </tr>\n",
       "    <tr>\n",
       "      <th>1</th>\n",
       "      <td>2020-07-13 01:00:00</td>\n",
       "      <td>2020-07-13</td>\n",
       "      <td>1</td>\n",
       "      <td>0.0</td>\n",
       "      <td>0.0</td>\n",
       "      <td>67.0</td>\n",
       "    </tr>\n",
       "    <tr>\n",
       "      <th>2</th>\n",
       "      <td>2020-07-13 02:00:00</td>\n",
       "      <td>2020-07-13</td>\n",
       "      <td>2</td>\n",
       "      <td>0.0</td>\n",
       "      <td>0.0</td>\n",
       "      <td>63.0</td>\n",
       "    </tr>\n",
       "    <tr>\n",
       "      <th>3</th>\n",
       "      <td>2020-07-13 03:00:00</td>\n",
       "      <td>2020-07-13</td>\n",
       "      <td>3</td>\n",
       "      <td>0.0</td>\n",
       "      <td>0.0</td>\n",
       "      <td>88.0</td>\n",
       "    </tr>\n",
       "    <tr>\n",
       "      <th>4</th>\n",
       "      <td>2020-07-13 04:00:00</td>\n",
       "      <td>2020-07-13</td>\n",
       "      <td>4</td>\n",
       "      <td>142.0</td>\n",
       "      <td>0.0</td>\n",
       "      <td>118.0</td>\n",
       "    </tr>\n",
       "  </tbody>\n",
       "</table>\n",
       "</div>"
      ],
      "text/plain": [
       "             dateTime      datum  hour  jamsCount  alertsCount  wazers\n",
       "0 2020-07-13 00:00:00 2020-07-13     0        0.0          0.0   153.0\n",
       "1 2020-07-13 01:00:00 2020-07-13     1        0.0          0.0    67.0\n",
       "2 2020-07-13 02:00:00 2020-07-13     2        0.0          0.0    63.0\n",
       "3 2020-07-13 03:00:00 2020-07-13     3        0.0          0.0    88.0\n",
       "4 2020-07-13 04:00:00 2020-07-13     4      142.0          0.0   118.0"
      ]
     },
     "execution_count": 42,
     "metadata": {},
     "output_type": "execute_result"
    }
   ],
   "source": [
    "jAwDf.head()"
   ]
  },
  {
   "cell_type": "code",
   "execution_count": 43,
   "metadata": {},
   "outputs": [
    {
     "data": {
      "text/html": [
       "<div>\n",
       "<style scoped>\n",
       "    .dataframe tbody tr th:only-of-type {\n",
       "        vertical-align: middle;\n",
       "    }\n",
       "\n",
       "    .dataframe tbody tr th {\n",
       "        vertical-align: top;\n",
       "    }\n",
       "\n",
       "    .dataframe thead th {\n",
       "        text-align: right;\n",
       "    }\n",
       "</style>\n",
       "<table border=\"1\" class=\"dataframe\">\n",
       "  <thead>\n",
       "    <tr style=\"text-align: right;\">\n",
       "      <th></th>\n",
       "      <th>hour</th>\n",
       "      <th>jamsCount</th>\n",
       "      <th>alertsCount</th>\n",
       "      <th>wazers</th>\n",
       "    </tr>\n",
       "  </thead>\n",
       "  <tbody>\n",
       "    <tr>\n",
       "      <th>count</th>\n",
       "      <td>2103.000000</td>\n",
       "      <td>2103.000000</td>\n",
       "      <td>2103.000000</td>\n",
       "      <td>1826.000000</td>\n",
       "    </tr>\n",
       "    <tr>\n",
       "      <th>mean</th>\n",
       "      <td>11.467903</td>\n",
       "      <td>48.550642</td>\n",
       "      <td>37.314313</td>\n",
       "      <td>1200.617196</td>\n",
       "    </tr>\n",
       "    <tr>\n",
       "      <th>std</th>\n",
       "      <td>6.919119</td>\n",
       "      <td>53.492881</td>\n",
       "      <td>52.775115</td>\n",
       "      <td>926.031038</td>\n",
       "    </tr>\n",
       "    <tr>\n",
       "      <th>min</th>\n",
       "      <td>0.000000</td>\n",
       "      <td>0.000000</td>\n",
       "      <td>0.000000</td>\n",
       "      <td>37.000000</td>\n",
       "    </tr>\n",
       "    <tr>\n",
       "      <th>25%</th>\n",
       "      <td>5.000000</td>\n",
       "      <td>7.000000</td>\n",
       "      <td>3.000000</td>\n",
       "      <td>234.500000</td>\n",
       "    </tr>\n",
       "    <tr>\n",
       "      <th>50%</th>\n",
       "      <td>11.000000</td>\n",
       "      <td>26.000000</td>\n",
       "      <td>15.000000</td>\n",
       "      <td>1242.000000</td>\n",
       "    </tr>\n",
       "    <tr>\n",
       "      <th>75%</th>\n",
       "      <td>17.000000</td>\n",
       "      <td>76.000000</td>\n",
       "      <td>51.000000</td>\n",
       "      <td>1913.750000</td>\n",
       "    </tr>\n",
       "    <tr>\n",
       "      <th>max</th>\n",
       "      <td>23.000000</td>\n",
       "      <td>412.000000</td>\n",
       "      <td>403.000000</td>\n",
       "      <td>4598.000000</td>\n",
       "    </tr>\n",
       "  </tbody>\n",
       "</table>\n",
       "</div>"
      ],
      "text/plain": [
       "              hour    jamsCount  alertsCount       wazers\n",
       "count  2103.000000  2103.000000  2103.000000  1826.000000\n",
       "mean     11.467903    48.550642    37.314313  1200.617196\n",
       "std       6.919119    53.492881    52.775115   926.031038\n",
       "min       0.000000     0.000000     0.000000    37.000000\n",
       "25%       5.000000     7.000000     3.000000   234.500000\n",
       "50%      11.000000    26.000000    15.000000  1242.000000\n",
       "75%      17.000000    76.000000    51.000000  1913.750000\n",
       "max      23.000000   412.000000   403.000000  4598.000000"
      ]
     },
     "execution_count": 43,
     "metadata": {},
     "output_type": "execute_result"
    }
   ],
   "source": [
    "jAwDf.describe()"
   ]
  },
  {
   "cell_type": "markdown",
   "metadata": {},
   "source": [
    "test normálního rozdělení"
   ]
  },
  {
   "cell_type": "code",
   "execution_count": 43,
   "metadata": {},
   "outputs": [
    {
     "data": {
      "text/plain": [
       "ShapiroResult(statistic=0.820752739906311, pvalue=1.821688003622262e-43)"
      ]
     },
     "execution_count": 43,
     "metadata": {},
     "output_type": "execute_result"
    }
   ],
   "source": [
    "shapiro(jAwDf['jamsCount'])"
   ]
  },
  {
   "cell_type": "code",
   "execution_count": 44,
   "metadata": {},
   "outputs": [
    {
     "data": {
      "text/plain": [
       "ShapiroResult(statistic=0.7109220623970032, pvalue=0.0)"
      ]
     },
     "execution_count": 44,
     "metadata": {},
     "output_type": "execute_result"
    }
   ],
   "source": [
    "shapiro(jAwDf['alertsCount'])"
   ]
  },
  {
   "cell_type": "markdown",
   "metadata": {},
   "source": [
    "výpočet korelace"
   ]
  },
  {
   "cell_type": "code",
   "execution_count": 46,
   "metadata": {},
   "outputs": [
    {
     "data": {
      "text/html": [
       "<div>\n",
       "<style scoped>\n",
       "    .dataframe tbody tr th:only-of-type {\n",
       "        vertical-align: middle;\n",
       "    }\n",
       "\n",
       "    .dataframe tbody tr th {\n",
       "        vertical-align: top;\n",
       "    }\n",
       "\n",
       "    .dataframe thead th {\n",
       "        text-align: right;\n",
       "    }\n",
       "</style>\n",
       "<table border=\"1\" class=\"dataframe\">\n",
       "  <thead>\n",
       "    <tr style=\"text-align: right;\">\n",
       "      <th></th>\n",
       "      <th>hour</th>\n",
       "      <th>jamsCount</th>\n",
       "      <th>alertsCount</th>\n",
       "      <th>wazers</th>\n",
       "    </tr>\n",
       "  </thead>\n",
       "  <tbody>\n",
       "    <tr>\n",
       "      <th>hour</th>\n",
       "      <td>1.000000</td>\n",
       "      <td>0.296190</td>\n",
       "      <td>0.264882</td>\n",
       "      <td>0.360351</td>\n",
       "    </tr>\n",
       "    <tr>\n",
       "      <th>jamsCount</th>\n",
       "      <td>0.296190</td>\n",
       "      <td>1.000000</td>\n",
       "      <td>0.908698</td>\n",
       "      <td>0.877843</td>\n",
       "    </tr>\n",
       "    <tr>\n",
       "      <th>alertsCount</th>\n",
       "      <td>0.264882</td>\n",
       "      <td>0.908698</td>\n",
       "      <td>1.000000</td>\n",
       "      <td>0.914254</td>\n",
       "    </tr>\n",
       "    <tr>\n",
       "      <th>wazers</th>\n",
       "      <td>0.360351</td>\n",
       "      <td>0.877843</td>\n",
       "      <td>0.914254</td>\n",
       "      <td>1.000000</td>\n",
       "    </tr>\n",
       "  </tbody>\n",
       "</table>\n",
       "</div>"
      ],
      "text/plain": [
       "                 hour  jamsCount  alertsCount    wazers\n",
       "hour         1.000000   0.296190     0.264882  0.360351\n",
       "jamsCount    0.296190   1.000000     0.908698  0.877843\n",
       "alertsCount  0.264882   0.908698     1.000000  0.914254\n",
       "wazers       0.360351   0.877843     0.914254  1.000000"
      ]
     },
     "execution_count": 46,
     "metadata": {},
     "output_type": "execute_result"
    }
   ],
   "source": [
    "jAwDf.corr(method=\"spearman\")"
   ]
  },
  {
   "cell_type": "markdown",
   "metadata": {},
   "source": [
    "histogramy a bodové grafy"
   ]
  },
  {
   "cell_type": "code",
   "execution_count": 53,
   "metadata": {},
   "outputs": [
    {
     "data": {
      "image/png": "[encoded data removed]",
      "text/plain": [
       "<Figure size 720x720 with 4 Axes>"
      ]
     },
     "metadata": {
      "needs_background": "light"
     },
     "output_type": "display_data"
    }
   ],
   "source": [
    "jAwDf.hist(column = ['jamsCount','alertsCount','wazers'],bins = 50,figsize = (10,10));"
   ]
  },
  {
   "cell_type": "code",
   "execution_count": 51,
   "metadata": {
    "scrolled": true
   },
   "outputs": [
    {
     "data": {
      "image/png": "[encoded data removed]",
      "text/plain": [
       "<Figure size 432x288 with 1 Axes>"
      ]
     },
     "metadata": {
      "needs_background": "light"
     },
     "output_type": "display_data"
    }
   ],
   "source": [
    "jAwDf.plot.scatter(x=\"wazers\", y=\"jamsCount\");"
   ]
  },
  {
   "cell_type": "code",
   "execution_count": 40,
   "metadata": {
    "scrolled": true
   },
   "outputs": [
    {
     "data": {
      "image/png": "[encoded data removed]",
      "text/plain": [
       "<Figure size 432x288 with 1 Axes>"
      ]
     },
     "metadata": {
      "needs_background": "light"
     },
     "output_type": "display_data"
    }
   ],
   "source": [
    "jAwDf.plot.scatter(x=\"wazers\", y=\"alertsCount\");"
   ]
  },
  {
   "cell_type": "code",
   "execution_count": 41,
   "metadata": {},
   "outputs": [
    {
     "data": {
      "image/png": "[encoded data removed]",
      "text/plain": [
       "<Figure size 432x288 with 1 Axes>"
      ]
     },
     "metadata": {
      "needs_background": "light"
     },
     "output_type": "display_data"
    }
   ],
   "source": [
    "jAwDf.plot.scatter(x=\"alertsCount\", y=\"jamsCount\");"
   ]
  },
  {
   "cell_type": "markdown",
   "metadata": {},
   "source": [
    "rozdělení dat na den (16h) a noc(8h)"
   ]
  },
  {
   "cell_type": "code",
   "execution_count": 54,
   "metadata": {},
   "outputs": [],
   "source": [
    "dayPart = []\n",
    "for i in range(0,len(jAwDf['hour'])):\n",
    "    if jAwDf['hour'][i] in (22,23,0,1,2,3,4,5):\n",
    "        dayPart.append(8)\n",
    "    else:\n",
    "        dayPart.append(16)"
   ]
  },
  {
   "cell_type": "code",
   "execution_count": 55,
   "metadata": {},
   "outputs": [],
   "source": [
    "jAwDf['dayPart']= dayPart"
   ]
  },
  {
   "cell_type": "code",
   "execution_count": 58,
   "metadata": {},
   "outputs": [
    {
     "data": {
      "image/png": "[encoded data removed]",
      "text/plain": [
       "<Figure size 432x288 with 1 Axes>"
      ]
     },
     "metadata": {
      "needs_background": "light"
     },
     "output_type": "display_data"
    }
   ],
   "source": [
    "jAwDf[jAwDf['dayPart']==8].plot.scatter(x=\"wazers\", y=\"jamsCount\");"
   ]
  },
  {
   "cell_type": "code",
   "execution_count": 59,
   "metadata": {},
   "outputs": [
    {
     "data": {
      "image/png": "[encoded data removed]",
      "text/plain": [
       "<Figure size 432x288 with 1 Axes>"
      ]
     },
     "metadata": {
      "needs_background": "light"
     },
     "output_type": "display_data"
    }
   ],
   "source": [
    "jAwDf[jAwDf['dayPart']==16].plot.scatter(x=\"wazers\", y=\"jamsCount\");"
   ]
  },
  {
   "cell_type": "code",
   "execution_count": null,
   "metadata": {},
   "outputs": [],
   "source": []
  }
 ],
 "metadata": {
  "kernelspec": {
   "display_name": "Python 3",
   "language": "python",
   "name": "python3"
  },
  "language_info": {
   "codemirror_mode": {
    "name": "ipython",
    "version": 3
   },
   "file_extension": ".py",
   "mimetype": "text/x-python",
   "name": "python",
   "nbconvert_exporter": "python",
   "pygments_lexer": "ipython3",
   "version": "3.8.5"
  }
 },
 "nbformat": 4,
 "nbformat_minor": 4
}
