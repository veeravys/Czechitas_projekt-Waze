{
 "cells": [
  {
   "cell_type": "code",
   "execution_count": 1,
   "metadata": {},
   "outputs": [],
   "source": [
    "import pandas as pd\n",
    "import numpy as np\n",
    "from datetime import timedelta\n",
    "import matplotlib\n",
    "from pandas.plotting import scatter_matrix\n",
    "from datetime import datetime, timedelta\n",
    "from scipy.stats import shapiro, pearsonr\n",
    "from scipy import stats"
   ]
  },
  {
   "cell_type": "markdown",
   "metadata": {},
   "source": [
    "## Traffic jams,alerts,wazers - Statistics"
   ]
  },
  {
   "cell_type": "markdown",
   "metadata": {},
   "source": [
    "Traffic jams groupby datum a hours, spojení s \"kalendářem\" 13.7.-8.10.2020"
   ]
  },
  {
   "cell_type": "markdown",
   "metadata": {},
   "source": [
    "vytvoření kalendáře"
   ]
  },
  {
   "cell_type": "code",
   "execution_count": 2,
   "metadata": {},
   "outputs": [],
   "source": [
    "base = datetime.strptime('2020-07-28 00:00:00', '%Y-%m-%d %H:%M:%S')\n",
    "end = datetime.strptime('2020-10-08 15:00:00', '%Y-%m-%d %H:%M:%S')\n",
    "dif = end - base\n",
    "date_list = [base + timedelta(hours=x) for x in range (int(dif.total_seconds()/3600))]"
   ]
  },
  {
   "cell_type": "code",
   "execution_count": 3,
   "metadata": {},
   "outputs": [],
   "source": [
    "calendar = pd.DataFrame(date_list, columns = ['dateTime'])"
   ]
  },
  {
   "cell_type": "code",
   "execution_count": 4,
   "metadata": {},
   "outputs": [],
   "source": [
    "def date(vstup):\n",
    "    return vstup.date()"
   ]
  },
  {
   "cell_type": "code",
   "execution_count": 5,
   "metadata": {},
   "outputs": [],
   "source": [
    "def hour(vstup):\n",
    "    return vstup.hour"
   ]
  },
  {
   "cell_type": "code",
   "execution_count": 8,
   "metadata": {},
   "outputs": [],
   "source": [
    "def day(vstup):\n",
    "    return vstup.dayofweek"
   ]
  },
  {
   "cell_type": "code",
   "execution_count": 9,
   "metadata": {
    "scrolled": true
   },
   "outputs": [
    {
     "data": {
      "text/html": [
       "<div>\n",
       "<style scoped>\n",
       "    .dataframe tbody tr th:only-of-type {\n",
       "        vertical-align: middle;\n",
       "    }\n",
       "\n",
       "    .dataframe tbody tr th {\n",
       "        vertical-align: top;\n",
       "    }\n",
       "\n",
       "    .dataframe thead th {\n",
       "        text-align: right;\n",
       "    }\n",
       "</style>\n",
       "<table border=\"1\" class=\"dataframe\">\n",
       "  <thead>\n",
       "    <tr style=\"text-align: right;\">\n",
       "      <th></th>\n",
       "      <th>dateTime</th>\n",
       "      <th>datum</th>\n",
       "      <th>hour</th>\n",
       "      <th>day</th>\n",
       "    </tr>\n",
       "  </thead>\n",
       "  <tbody>\n",
       "    <tr>\n",
       "      <th>0</th>\n",
       "      <td>2020-07-28 00:00:00</td>\n",
       "      <td>2020-07-28</td>\n",
       "      <td>0</td>\n",
       "      <td>1</td>\n",
       "    </tr>\n",
       "    <tr>\n",
       "      <th>1</th>\n",
       "      <td>2020-07-28 01:00:00</td>\n",
       "      <td>2020-07-28</td>\n",
       "      <td>1</td>\n",
       "      <td>1</td>\n",
       "    </tr>\n",
       "    <tr>\n",
       "      <th>2</th>\n",
       "      <td>2020-07-28 02:00:00</td>\n",
       "      <td>2020-07-28</td>\n",
       "      <td>2</td>\n",
       "      <td>1</td>\n",
       "    </tr>\n",
       "    <tr>\n",
       "      <th>3</th>\n",
       "      <td>2020-07-28 03:00:00</td>\n",
       "      <td>2020-07-28</td>\n",
       "      <td>3</td>\n",
       "      <td>1</td>\n",
       "    </tr>\n",
       "    <tr>\n",
       "      <th>4</th>\n",
       "      <td>2020-07-28 04:00:00</td>\n",
       "      <td>2020-07-28</td>\n",
       "      <td>4</td>\n",
       "      <td>1</td>\n",
       "    </tr>\n",
       "    <tr>\n",
       "      <th>...</th>\n",
       "      <td>...</td>\n",
       "      <td>...</td>\n",
       "      <td>...</td>\n",
       "      <td>...</td>\n",
       "    </tr>\n",
       "    <tr>\n",
       "      <th>1738</th>\n",
       "      <td>2020-10-08 10:00:00</td>\n",
       "      <td>2020-10-08</td>\n",
       "      <td>10</td>\n",
       "      <td>3</td>\n",
       "    </tr>\n",
       "    <tr>\n",
       "      <th>1739</th>\n",
       "      <td>2020-10-08 11:00:00</td>\n",
       "      <td>2020-10-08</td>\n",
       "      <td>11</td>\n",
       "      <td>3</td>\n",
       "    </tr>\n",
       "    <tr>\n",
       "      <th>1740</th>\n",
       "      <td>2020-10-08 12:00:00</td>\n",
       "      <td>2020-10-08</td>\n",
       "      <td>12</td>\n",
       "      <td>3</td>\n",
       "    </tr>\n",
       "    <tr>\n",
       "      <th>1741</th>\n",
       "      <td>2020-10-08 13:00:00</td>\n",
       "      <td>2020-10-08</td>\n",
       "      <td>13</td>\n",
       "      <td>3</td>\n",
       "    </tr>\n",
       "    <tr>\n",
       "      <th>1742</th>\n",
       "      <td>2020-10-08 14:00:00</td>\n",
       "      <td>2020-10-08</td>\n",
       "      <td>14</td>\n",
       "      <td>3</td>\n",
       "    </tr>\n",
       "  </tbody>\n",
       "</table>\n",
       "<p>1743 rows × 4 columns</p>\n",
       "</div>"
      ],
      "text/plain": [
       "                dateTime       datum  hour  day\n",
       "0    2020-07-28 00:00:00  2020-07-28     0    1\n",
       "1    2020-07-28 01:00:00  2020-07-28     1    1\n",
       "2    2020-07-28 02:00:00  2020-07-28     2    1\n",
       "3    2020-07-28 03:00:00  2020-07-28     3    1\n",
       "4    2020-07-28 04:00:00  2020-07-28     4    1\n",
       "...                  ...         ...   ...  ...\n",
       "1738 2020-10-08 10:00:00  2020-10-08    10    3\n",
       "1739 2020-10-08 11:00:00  2020-10-08    11    3\n",
       "1740 2020-10-08 12:00:00  2020-10-08    12    3\n",
       "1741 2020-10-08 13:00:00  2020-10-08    13    3\n",
       "1742 2020-10-08 14:00:00  2020-10-08    14    3\n",
       "\n",
       "[1743 rows x 4 columns]"
      ]
     },
     "execution_count": 9,
     "metadata": {},
     "output_type": "execute_result"
    }
   ],
   "source": [
    "calendar['datum'] = calendar['dateTime'].apply(date)\n",
    "calendar['hour'] = calendar['dateTime'].apply(hour)\n",
    "calendar['day'] = calendar['dateTime'].apply(day)\n",
    "calendar"
   ]
  },
  {
   "cell_type": "code",
   "execution_count": 11,
   "metadata": {},
   "outputs": [],
   "source": [
    "jamsGroupDf = pd.read_csv('jamsGroupDf.csv', encoding = 'UTF-8')"
   ]
  },
  {
   "cell_type": "code",
   "execution_count": 12,
   "metadata": {},
   "outputs": [],
   "source": [
    "alertsGroupDf = pd.read_csv('alertsGroupDfh.csv', encoding = 'UTF-8')"
   ]
  },
  {
   "cell_type": "code",
   "execution_count": 13,
   "metadata": {},
   "outputs": [],
   "source": [
    "maxWazers = pd.read_csv('maxWazersh.csv', encoding = 'UTF-8')"
   ]
  },
  {
   "cell_type": "code",
   "execution_count": 14,
   "metadata": {},
   "outputs": [],
   "source": [
    "jamsGroupDf['datum'] = pd.to_datetime(jamsGroupDf['datum']).apply(date)\n",
    "jamsGroupDf = jamsGroupDf.rename(columns={'hours':'hour', 'uuid':'jamsCount'})"
   ]
  },
  {
   "cell_type": "code",
   "execution_count": 15,
   "metadata": {},
   "outputs": [],
   "source": [
    "alertsGroupDf['datum'] = pd.to_datetime(alertsGroupDf['datum']).apply(date)\n",
    "alertsGroupDf = alertsGroupDf.rename(columns={'hours':'hour', 'alertID':'alertsCount'})"
   ]
  },
  {
   "cell_type": "code",
   "execution_count": 16,
   "metadata": {},
   "outputs": [],
   "source": [
    "maxWazers['datum']=pd.to_datetime(maxWazers['datum'])"
   ]
  },
  {
   "cell_type": "code",
   "execution_count": 17,
   "metadata": {
    "scrolled": true
   },
   "outputs": [],
   "source": [
    "calendarDf = calendar.merge(jamsGroupDf, how = 'left', on = ['datum','hour']).merge(alertsGroupDf, how = 'left', on =['datum','hour'])"
   ]
  },
  {
   "cell_type": "code",
   "execution_count": 18,
   "metadata": {},
   "outputs": [],
   "source": [
    "calendarDf['datum']=pd.to_datetime(calendarDf['datum'])"
   ]
  },
  {
   "cell_type": "code",
   "execution_count": 19,
   "metadata": {
    "scrolled": true
   },
   "outputs": [],
   "source": [
    "jAwDf = pd.merge(calendarDf,maxWazers,how='left', on = ['datum','hour'])"
   ]
  },
  {
   "cell_type": "code",
   "execution_count": 20,
   "metadata": {},
   "outputs": [],
   "source": [
    "jAwDf['jamsCount'] = jAwDf['jamsCount'].fillna(0)\n",
    "jAwDf['alertsCount'] = jAwDf['alertsCount'].fillna(0)\n",
    "jAwDf['wazers'] = jAwDf['wazers'].fillna(0)"
   ]
  },
  {
   "cell_type": "code",
   "execution_count": 21,
   "metadata": {},
   "outputs": [
    {
     "data": {
      "text/html": [
       "<div>\n",
       "<style scoped>\n",
       "    .dataframe tbody tr th:only-of-type {\n",
       "        vertical-align: middle;\n",
       "    }\n",
       "\n",
       "    .dataframe tbody tr th {\n",
       "        vertical-align: top;\n",
       "    }\n",
       "\n",
       "    .dataframe thead th {\n",
       "        text-align: right;\n",
       "    }\n",
       "</style>\n",
       "<table border=\"1\" class=\"dataframe\">\n",
       "  <thead>\n",
       "    <tr style=\"text-align: right;\">\n",
       "      <th></th>\n",
       "      <th>dateTime</th>\n",
       "      <th>datum</th>\n",
       "      <th>hour</th>\n",
       "      <th>day</th>\n",
       "      <th>jamsCount</th>\n",
       "      <th>alertsCount</th>\n",
       "      <th>wazers</th>\n",
       "    </tr>\n",
       "  </thead>\n",
       "  <tbody>\n",
       "    <tr>\n",
       "      <th>0</th>\n",
       "      <td>2020-07-28 00:00:00</td>\n",
       "      <td>2020-07-28</td>\n",
       "      <td>0</td>\n",
       "      <td>1</td>\n",
       "      <td>6.0</td>\n",
       "      <td>0.0</td>\n",
       "      <td>99</td>\n",
       "    </tr>\n",
       "    <tr>\n",
       "      <th>1</th>\n",
       "      <td>2020-07-28 01:00:00</td>\n",
       "      <td>2020-07-28</td>\n",
       "      <td>1</td>\n",
       "      <td>1</td>\n",
       "      <td>3.0</td>\n",
       "      <td>3.0</td>\n",
       "      <td>77</td>\n",
       "    </tr>\n",
       "    <tr>\n",
       "      <th>2</th>\n",
       "      <td>2020-07-28 02:00:00</td>\n",
       "      <td>2020-07-28</td>\n",
       "      <td>2</td>\n",
       "      <td>1</td>\n",
       "      <td>2.0</td>\n",
       "      <td>0.0</td>\n",
       "      <td>56</td>\n",
       "    </tr>\n",
       "    <tr>\n",
       "      <th>3</th>\n",
       "      <td>2020-07-28 03:00:00</td>\n",
       "      <td>2020-07-28</td>\n",
       "      <td>3</td>\n",
       "      <td>1</td>\n",
       "      <td>2.0</td>\n",
       "      <td>1.0</td>\n",
       "      <td>60</td>\n",
       "    </tr>\n",
       "    <tr>\n",
       "      <th>4</th>\n",
       "      <td>2020-07-28 04:00:00</td>\n",
       "      <td>2020-07-28</td>\n",
       "      <td>4</td>\n",
       "      <td>1</td>\n",
       "      <td>41.0</td>\n",
       "      <td>4.0</td>\n",
       "      <td>121</td>\n",
       "    </tr>\n",
       "    <tr>\n",
       "      <th>5</th>\n",
       "      <td>2020-07-28 05:00:00</td>\n",
       "      <td>2020-07-28</td>\n",
       "      <td>5</td>\n",
       "      <td>1</td>\n",
       "      <td>6.0</td>\n",
       "      <td>9.0</td>\n",
       "      <td>464</td>\n",
       "    </tr>\n",
       "    <tr>\n",
       "      <th>6</th>\n",
       "      <td>2020-07-28 06:00:00</td>\n",
       "      <td>2020-07-28</td>\n",
       "      <td>6</td>\n",
       "      <td>1</td>\n",
       "      <td>37.0</td>\n",
       "      <td>39.0</td>\n",
       "      <td>1199</td>\n",
       "    </tr>\n",
       "    <tr>\n",
       "      <th>7</th>\n",
       "      <td>2020-07-28 07:00:00</td>\n",
       "      <td>2020-07-28</td>\n",
       "      <td>7</td>\n",
       "      <td>1</td>\n",
       "      <td>69.0</td>\n",
       "      <td>73.0</td>\n",
       "      <td>1859</td>\n",
       "    </tr>\n",
       "    <tr>\n",
       "      <th>8</th>\n",
       "      <td>2020-07-28 08:00:00</td>\n",
       "      <td>2020-07-28</td>\n",
       "      <td>8</td>\n",
       "      <td>1</td>\n",
       "      <td>78.0</td>\n",
       "      <td>75.0</td>\n",
       "      <td>1927</td>\n",
       "    </tr>\n",
       "    <tr>\n",
       "      <th>9</th>\n",
       "      <td>2020-07-28 09:00:00</td>\n",
       "      <td>2020-07-28</td>\n",
       "      <td>9</td>\n",
       "      <td>1</td>\n",
       "      <td>76.0</td>\n",
       "      <td>37.0</td>\n",
       "      <td>1925</td>\n",
       "    </tr>\n",
       "  </tbody>\n",
       "</table>\n",
       "</div>"
      ],
      "text/plain": [
       "             dateTime      datum  hour  day  jamsCount  alertsCount  wazers\n",
       "0 2020-07-28 00:00:00 2020-07-28     0    1        6.0          0.0      99\n",
       "1 2020-07-28 01:00:00 2020-07-28     1    1        3.0          3.0      77\n",
       "2 2020-07-28 02:00:00 2020-07-28     2    1        2.0          0.0      56\n",
       "3 2020-07-28 03:00:00 2020-07-28     3    1        2.0          1.0      60\n",
       "4 2020-07-28 04:00:00 2020-07-28     4    1       41.0          4.0     121\n",
       "5 2020-07-28 05:00:00 2020-07-28     5    1        6.0          9.0     464\n",
       "6 2020-07-28 06:00:00 2020-07-28     6    1       37.0         39.0    1199\n",
       "7 2020-07-28 07:00:00 2020-07-28     7    1       69.0         73.0    1859\n",
       "8 2020-07-28 08:00:00 2020-07-28     8    1       78.0         75.0    1927\n",
       "9 2020-07-28 09:00:00 2020-07-28     9    1       76.0         37.0    1925"
      ]
     },
     "execution_count": 21,
     "metadata": {},
     "output_type": "execute_result"
    }
   ],
   "source": [
    "jAwDf.head(10)"
   ]
  },
  {
   "cell_type": "code",
   "execution_count": 22,
   "metadata": {},
   "outputs": [
    {
     "data": {
      "text/html": [
       "<div>\n",
       "<style scoped>\n",
       "    .dataframe tbody tr th:only-of-type {\n",
       "        vertical-align: middle;\n",
       "    }\n",
       "\n",
       "    .dataframe tbody tr th {\n",
       "        vertical-align: top;\n",
       "    }\n",
       "\n",
       "    .dataframe thead th {\n",
       "        text-align: right;\n",
       "    }\n",
       "</style>\n",
       "<table border=\"1\" class=\"dataframe\">\n",
       "  <thead>\n",
       "    <tr style=\"text-align: right;\">\n",
       "      <th></th>\n",
       "      <th>hour</th>\n",
       "      <th>day</th>\n",
       "      <th>jamsCount</th>\n",
       "      <th>alertsCount</th>\n",
       "      <th>wazers</th>\n",
       "    </tr>\n",
       "  </thead>\n",
       "  <tbody>\n",
       "    <tr>\n",
       "      <th>count</th>\n",
       "      <td>1743.000000</td>\n",
       "      <td>1743.000000</td>\n",
       "      <td>1743.000000</td>\n",
       "      <td>1743.000000</td>\n",
       "      <td>1743.000000</td>\n",
       "    </tr>\n",
       "    <tr>\n",
       "      <th>mean</th>\n",
       "      <td>11.461274</td>\n",
       "      <td>2.958692</td>\n",
       "      <td>50.115318</td>\n",
       "      <td>38.198508</td>\n",
       "      <td>1198.306368</td>\n",
       "    </tr>\n",
       "    <tr>\n",
       "      <th>std</th>\n",
       "      <td>6.918466</td>\n",
       "      <td>1.981114</td>\n",
       "      <td>55.618967</td>\n",
       "      <td>54.619944</td>\n",
       "      <td>928.116029</td>\n",
       "    </tr>\n",
       "    <tr>\n",
       "      <th>min</th>\n",
       "      <td>0.000000</td>\n",
       "      <td>0.000000</td>\n",
       "      <td>0.000000</td>\n",
       "      <td>0.000000</td>\n",
       "      <td>37.000000</td>\n",
       "    </tr>\n",
       "    <tr>\n",
       "      <th>25%</th>\n",
       "      <td>5.000000</td>\n",
       "      <td>1.000000</td>\n",
       "      <td>7.000000</td>\n",
       "      <td>3.000000</td>\n",
       "      <td>232.500000</td>\n",
       "    </tr>\n",
       "    <tr>\n",
       "      <th>50%</th>\n",
       "      <td>11.000000</td>\n",
       "      <td>3.000000</td>\n",
       "      <td>27.000000</td>\n",
       "      <td>14.000000</td>\n",
       "      <td>1234.000000</td>\n",
       "    </tr>\n",
       "    <tr>\n",
       "      <th>75%</th>\n",
       "      <td>17.000000</td>\n",
       "      <td>5.000000</td>\n",
       "      <td>78.000000</td>\n",
       "      <td>51.000000</td>\n",
       "      <td>1911.500000</td>\n",
       "    </tr>\n",
       "    <tr>\n",
       "      <th>max</th>\n",
       "      <td>23.000000</td>\n",
       "      <td>6.000000</td>\n",
       "      <td>412.000000</td>\n",
       "      <td>403.000000</td>\n",
       "      <td>4598.000000</td>\n",
       "    </tr>\n",
       "  </tbody>\n",
       "</table>\n",
       "</div>"
      ],
      "text/plain": [
       "              hour          day    jamsCount  alertsCount       wazers\n",
       "count  1743.000000  1743.000000  1743.000000  1743.000000  1743.000000\n",
       "mean     11.461274     2.958692    50.115318    38.198508  1198.306368\n",
       "std       6.918466     1.981114    55.618967    54.619944   928.116029\n",
       "min       0.000000     0.000000     0.000000     0.000000    37.000000\n",
       "25%       5.000000     1.000000     7.000000     3.000000   232.500000\n",
       "50%      11.000000     3.000000    27.000000    14.000000  1234.000000\n",
       "75%      17.000000     5.000000    78.000000    51.000000  1911.500000\n",
       "max      23.000000     6.000000   412.000000   403.000000  4598.000000"
      ]
     },
     "execution_count": 22,
     "metadata": {},
     "output_type": "execute_result"
    }
   ],
   "source": [
    "jAwDf.describe()"
   ]
  },
  {
   "cell_type": "markdown",
   "metadata": {},
   "source": [
    "histogramy"
   ]
  },
  {
   "cell_type": "code",
   "execution_count": 23,
   "metadata": {
    "scrolled": true
   },
   "outputs": [
    {
     "data": {
      "image/png": "[encoded data removed]",
      "text/plain": [
       "<Figure size 720x720 with 4 Axes>"
      ]
     },
     "metadata": {
      "needs_background": "light"
     },
     "output_type": "display_data"
    }
   ],
   "source": [
    "jAwDf.hist(column = ['jamsCount','alertsCount','wazers'],bins = 50,figsize = (10,10));"
   ]
  },
  {
   "cell_type": "markdown",
   "metadata": {},
   "source": [
    "scatter plot"
   ]
  },
  {
   "cell_type": "code",
   "execution_count": 24,
   "metadata": {
    "scrolled": false
   },
   "outputs": [
    {
     "data": {
      "image/png": "[encoded data removed]",
      "text/plain": [
       "<Figure size 432x288 with 1 Axes>"
      ]
     },
     "metadata": {
      "needs_background": "light"
     },
     "output_type": "display_data"
    }
   ],
   "source": [
    "jAwDf.plot.scatter(x=\"wazers\", y=\"jamsCount\");"
   ]
  },
  {
   "cell_type": "code",
   "execution_count": 25,
   "metadata": {
    "scrolled": true
   },
   "outputs": [
    {
     "data": {
      "image/png": "[encoded data removed]",
      "text/plain": [
       "<Figure size 432x288 with 1 Axes>"
      ]
     },
     "metadata": {
      "needs_background": "light"
     },
     "output_type": "display_data"
    }
   ],
   "source": [
    "jAwDf.plot.scatter(x=\"wazers\", y=\"alertsCount\");"
   ]
  },
  {
   "cell_type": "code",
   "execution_count": 26,
   "metadata": {},
   "outputs": [
    {
     "data": {
      "image/png": "[encoded data removed]",
      "text/plain": [
       "<Figure size 432x288 with 1 Axes>"
      ]
     },
     "metadata": {
      "needs_background": "light"
     },
     "output_type": "display_data"
    }
   ],
   "source": [
    "jAwDf.plot.scatter(x=\"alertsCount\", y=\"jamsCount\");"
   ]
  },
  {
   "cell_type": "markdown",
   "metadata": {},
   "source": [
    "test normálního rozdělení (p-Value - pravděpodobnost, že by se jednalo o normální rozdělení)"
   ]
  },
  {
   "cell_type": "code",
   "execution_count": 27,
   "metadata": {},
   "outputs": [
    {
     "data": {
      "text/plain": [
       "ShapiroResult(statistic=0.8179409503936768, pvalue=1.390564518088089e-40)"
      ]
     },
     "execution_count": 27,
     "metadata": {},
     "output_type": "execute_result"
    }
   ],
   "source": [
    "shapiro(jAwDf['jamsCount'])"
   ]
  },
  {
   "cell_type": "code",
   "execution_count": 28,
   "metadata": {},
   "outputs": [
    {
     "data": {
      "text/plain": [
       "ShapiroResult(statistic=0.7064236998558044, pvalue=0.0)"
      ]
     },
     "execution_count": 28,
     "metadata": {},
     "output_type": "execute_result"
    }
   ],
   "source": [
    "shapiro(jAwDf['alertsCount'])"
   ]
  },
  {
   "cell_type": "code",
   "execution_count": 29,
   "metadata": {},
   "outputs": [
    {
     "data": {
      "text/plain": [
       "ShapiroResult(statistic=0.9205938577651978, pvalue=2.3798088890928379e-29)"
      ]
     },
     "execution_count": 29,
     "metadata": {},
     "output_type": "execute_result"
    }
   ],
   "source": [
    "shapiro(jAwDf['wazers'])"
   ]
  },
  {
   "cell_type": "markdown",
   "metadata": {},
   "source": [
    "test, zda existuje mezi proměnnými závislost (p-Value indikuje pravděpodobnost, že by se jednalo o systém bez korelace)"
   ]
  },
  {
   "cell_type": "code",
   "execution_count": 30,
   "metadata": {},
   "outputs": [
    {
     "data": {
      "text/plain": [
       "0.0"
      ]
     },
     "execution_count": 30,
     "metadata": {},
     "output_type": "execute_result"
    }
   ],
   "source": [
    "r_value, p_value = pearsonr(jAwDf['wazers'],jAwDf['jamsCount'])\n",
    "p_value"
   ]
  },
  {
   "cell_type": "code",
   "execution_count": 31,
   "metadata": {},
   "outputs": [
    {
     "data": {
      "text/plain": [
       "0.0"
      ]
     },
     "execution_count": 31,
     "metadata": {},
     "output_type": "execute_result"
    }
   ],
   "source": [
    "r_value2, p_value2 = pearsonr(jAwDf['wazers'],jAwDf['alertsCount'])\n",
    "p_value2"
   ]
  },
  {
   "cell_type": "code",
   "execution_count": 32,
   "metadata": {},
   "outputs": [
    {
     "data": {
      "text/plain": [
       "0.0"
      ]
     },
     "execution_count": 32,
     "metadata": {},
     "output_type": "execute_result"
    }
   ],
   "source": [
    "r_value3, p_value3 = pearsonr(jAwDf['jamsCount'],jAwDf['alertsCount'])\n",
    "p_value3"
   ]
  },
  {
   "cell_type": "markdown",
   "metadata": {},
   "source": [
    "výpočet korelace"
   ]
  },
  {
   "cell_type": "code",
   "execution_count": 33,
   "metadata": {
    "scrolled": true
   },
   "outputs": [
    {
     "data": {
      "text/html": [
       "<div>\n",
       "<style scoped>\n",
       "    .dataframe tbody tr th:only-of-type {\n",
       "        vertical-align: middle;\n",
       "    }\n",
       "\n",
       "    .dataframe tbody tr th {\n",
       "        vertical-align: top;\n",
       "    }\n",
       "\n",
       "    .dataframe thead th {\n",
       "        text-align: right;\n",
       "    }\n",
       "</style>\n",
       "<table border=\"1\" class=\"dataframe\">\n",
       "  <thead>\n",
       "    <tr style=\"text-align: right;\">\n",
       "      <th></th>\n",
       "      <th>hour</th>\n",
       "      <th>day</th>\n",
       "      <th>jamsCount</th>\n",
       "      <th>alertsCount</th>\n",
       "      <th>wazers</th>\n",
       "    </tr>\n",
       "  </thead>\n",
       "  <tbody>\n",
       "    <tr>\n",
       "      <th>hour</th>\n",
       "      <td>1.000000</td>\n",
       "      <td>-0.000270</td>\n",
       "      <td>0.299625</td>\n",
       "      <td>0.261907</td>\n",
       "      <td>0.365374</td>\n",
       "    </tr>\n",
       "    <tr>\n",
       "      <th>day</th>\n",
       "      <td>-0.000270</td>\n",
       "      <td>1.000000</td>\n",
       "      <td>-0.217577</td>\n",
       "      <td>-0.203648</td>\n",
       "      <td>-0.049264</td>\n",
       "    </tr>\n",
       "    <tr>\n",
       "      <th>jamsCount</th>\n",
       "      <td>0.299625</td>\n",
       "      <td>-0.217577</td>\n",
       "      <td>1.000000</td>\n",
       "      <td>0.918092</td>\n",
       "      <td>0.889202</td>\n",
       "    </tr>\n",
       "    <tr>\n",
       "      <th>alertsCount</th>\n",
       "      <td>0.261907</td>\n",
       "      <td>-0.203648</td>\n",
       "      <td>0.918092</td>\n",
       "      <td>1.000000</td>\n",
       "      <td>0.917992</td>\n",
       "    </tr>\n",
       "    <tr>\n",
       "      <th>wazers</th>\n",
       "      <td>0.365374</td>\n",
       "      <td>-0.049264</td>\n",
       "      <td>0.889202</td>\n",
       "      <td>0.917992</td>\n",
       "      <td>1.000000</td>\n",
       "    </tr>\n",
       "  </tbody>\n",
       "</table>\n",
       "</div>"
      ],
      "text/plain": [
       "                 hour       day  jamsCount  alertsCount    wazers\n",
       "hour         1.000000 -0.000270   0.299625     0.261907  0.365374\n",
       "day         -0.000270  1.000000  -0.217577    -0.203648 -0.049264\n",
       "jamsCount    0.299625 -0.217577   1.000000     0.918092  0.889202\n",
       "alertsCount  0.261907 -0.203648   0.918092     1.000000  0.917992\n",
       "wazers       0.365374 -0.049264   0.889202     0.917992  1.000000"
      ]
     },
     "execution_count": 33,
     "metadata": {},
     "output_type": "execute_result"
    }
   ],
   "source": [
    "jAwDf.corr(method=\"spearman\")"
   ]
  },
  {
   "cell_type": "markdown",
   "metadata": {},
   "source": [
    "rozdělení souboru dat podle denní doby"
   ]
  },
  {
   "cell_type": "code",
   "execution_count": 34,
   "metadata": {},
   "outputs": [],
   "source": [
    "dayPart = []\n",
    "for i in range(0,len(jAwDf['hour'])):\n",
    "    if jAwDf['hour'][i] in (22,23,0,1,2,3,4,5):\n",
    "        dayPart.append(8)\n",
    "    else:\n",
    "        dayPart.append(16)"
   ]
  },
  {
   "cell_type": "code",
   "execution_count": 35,
   "metadata": {},
   "outputs": [],
   "source": [
    "jAwDf['dayPart']= dayPart"
   ]
  },
  {
   "cell_type": "code",
   "execution_count": 36,
   "metadata": {},
   "outputs": [],
   "source": [
    "jAwDfDay = jAwDf[jAwDf['dayPart'] == 16]"
   ]
  },
  {
   "cell_type": "code",
   "execution_count": 37,
   "metadata": {},
   "outputs": [],
   "source": [
    "jAwDfNight = jAwDf[jAwDf['dayPart'] == 8]"
   ]
  },
  {
   "cell_type": "markdown",
   "metadata": {},
   "source": [
    "testy pro DEN"
   ]
  },
  {
   "cell_type": "code",
   "execution_count": 38,
   "metadata": {},
   "outputs": [
    {
     "data": {
      "image/png": "[encoded data removed]",
      "text/plain": [
       "<Figure size 720x720 with 4 Axes>"
      ]
     },
     "metadata": {
      "needs_background": "light"
     },
     "output_type": "display_data"
    }
   ],
   "source": [
    "jAwDfDay.hist(column = ['jamsCount','alertsCount','wazers'],bins = 50,figsize = (10,10));"
   ]
  },
  {
   "cell_type": "code",
   "execution_count": 39,
   "metadata": {},
   "outputs": [
    {
     "data": {
      "text/plain": [
       "ShapiroResult(statistic=0.9884331822395325, pvalue=6.12383317388776e-08)"
      ]
     },
     "execution_count": 39,
     "metadata": {},
     "output_type": "execute_result"
    }
   ],
   "source": [
    "shapiro(jAwDfDay['wazers'])"
   ]
  },
  {
   "cell_type": "code",
   "execution_count": 40,
   "metadata": {},
   "outputs": [
    {
     "data": {
      "text/plain": [
       "4.848240576743751e-179"
      ]
     },
     "execution_count": 40,
     "metadata": {},
     "output_type": "execute_result"
    }
   ],
   "source": [
    "r_valueD, p_valueD = pearsonr(jAwDfDay['wazers'],jAwDfDay['jamsCount'])\n",
    "p_valueD"
   ]
  },
  {
   "cell_type": "code",
   "execution_count": 41,
   "metadata": {},
   "outputs": [
    {
     "data": {
      "text/plain": [
       "2.012629846671277e-225"
      ]
     },
     "execution_count": 41,
     "metadata": {},
     "output_type": "execute_result"
    }
   ],
   "source": [
    "r_valueD2, p_valueD2 = pearsonr(jAwDfDay['wazers'],jAwDfDay['alertsCount'])\n",
    "p_valueD2"
   ]
  },
  {
   "cell_type": "code",
   "execution_count": 42,
   "metadata": {},
   "outputs": [
    {
     "data": {
      "text/html": [
       "<div>\n",
       "<style scoped>\n",
       "    .dataframe tbody tr th:only-of-type {\n",
       "        vertical-align: middle;\n",
       "    }\n",
       "\n",
       "    .dataframe tbody tr th {\n",
       "        vertical-align: top;\n",
       "    }\n",
       "\n",
       "    .dataframe thead th {\n",
       "        text-align: right;\n",
       "    }\n",
       "</style>\n",
       "<table border=\"1\" class=\"dataframe\">\n",
       "  <thead>\n",
       "    <tr style=\"text-align: right;\">\n",
       "      <th></th>\n",
       "      <th>hour</th>\n",
       "      <th>day</th>\n",
       "      <th>jamsCount</th>\n",
       "      <th>alertsCount</th>\n",
       "      <th>wazers</th>\n",
       "      <th>dayPart</th>\n",
       "    </tr>\n",
       "  </thead>\n",
       "  <tbody>\n",
       "    <tr>\n",
       "      <th>hour</th>\n",
       "      <td>1.000000</td>\n",
       "      <td>-0.000284</td>\n",
       "      <td>-0.273583</td>\n",
       "      <td>-0.334337</td>\n",
       "      <td>-0.190262</td>\n",
       "      <td>NaN</td>\n",
       "    </tr>\n",
       "    <tr>\n",
       "      <th>day</th>\n",
       "      <td>-0.000284</td>\n",
       "      <td>1.000000</td>\n",
       "      <td>-0.486350</td>\n",
       "      <td>-0.392576</td>\n",
       "      <td>-0.131893</td>\n",
       "      <td>NaN</td>\n",
       "    </tr>\n",
       "    <tr>\n",
       "      <th>jamsCount</th>\n",
       "      <td>-0.273583</td>\n",
       "      <td>-0.486350</td>\n",
       "      <td>1.000000</td>\n",
       "      <td>0.898292</td>\n",
       "      <td>0.756798</td>\n",
       "      <td>NaN</td>\n",
       "    </tr>\n",
       "    <tr>\n",
       "      <th>alertsCount</th>\n",
       "      <td>-0.334337</td>\n",
       "      <td>-0.392576</td>\n",
       "      <td>0.898292</td>\n",
       "      <td>1.000000</td>\n",
       "      <td>0.830542</td>\n",
       "      <td>NaN</td>\n",
       "    </tr>\n",
       "    <tr>\n",
       "      <th>wazers</th>\n",
       "      <td>-0.190262</td>\n",
       "      <td>-0.131893</td>\n",
       "      <td>0.756798</td>\n",
       "      <td>0.830542</td>\n",
       "      <td>1.000000</td>\n",
       "      <td>NaN</td>\n",
       "    </tr>\n",
       "    <tr>\n",
       "      <th>dayPart</th>\n",
       "      <td>NaN</td>\n",
       "      <td>NaN</td>\n",
       "      <td>NaN</td>\n",
       "      <td>NaN</td>\n",
       "      <td>NaN</td>\n",
       "      <td>NaN</td>\n",
       "    </tr>\n",
       "  </tbody>\n",
       "</table>\n",
       "</div>"
      ],
      "text/plain": [
       "                 hour       day  jamsCount  alertsCount    wazers  dayPart\n",
       "hour         1.000000 -0.000284  -0.273583    -0.334337 -0.190262      NaN\n",
       "day         -0.000284  1.000000  -0.486350    -0.392576 -0.131893      NaN\n",
       "jamsCount   -0.273583 -0.486350   1.000000     0.898292  0.756798      NaN\n",
       "alertsCount -0.334337 -0.392576   0.898292     1.000000  0.830542      NaN\n",
       "wazers      -0.190262 -0.131893   0.756798     0.830542  1.000000      NaN\n",
       "dayPart           NaN       NaN        NaN          NaN       NaN      NaN"
      ]
     },
     "execution_count": 42,
     "metadata": {},
     "output_type": "execute_result"
    }
   ],
   "source": [
    "jAwDfDay.corr(method = 'spearman')"
   ]
  },
  {
   "cell_type": "code",
   "execution_count": 43,
   "metadata": {},
   "outputs": [
    {
     "data": {
      "image/png": "[encoded data removed]",
      "text/plain": [
       "<Figure size 720x720 with 4 Axes>"
      ]
     },
     "metadata": {
      "needs_background": "light"
     },
     "output_type": "display_data"
    }
   ],
   "source": [
    "jAwDfNight.hist(column = ['jamsCount','alertsCount','wazers'],bins = 50,figsize = (10,10));"
   ]
  },
  {
   "cell_type": "markdown",
   "metadata": {},
   "source": [
    "rozdělení Df podle počtu Wazerů (<= 800 a >800)"
   ]
  },
  {
   "cell_type": "code",
   "execution_count": 44,
   "metadata": {},
   "outputs": [],
   "source": [
    "wazersPart = []\n",
    "for i in range(0,len(jAwDf['hour'])):\n",
    "    if jAwDf['wazers'][i] <= 800:\n",
    "        wazersPart.append(0)\n",
    "    else:\n",
    "        wazersPart.append(1)"
   ]
  },
  {
   "cell_type": "code",
   "execution_count": 45,
   "metadata": {},
   "outputs": [],
   "source": [
    "jAwDf['wazersPart']= wazersPart"
   ]
  },
  {
   "cell_type": "code",
   "execution_count": 46,
   "metadata": {},
   "outputs": [],
   "source": [
    "jAwDfLow = jAwDf[jAwDf['wazersPart'] == 0]"
   ]
  },
  {
   "cell_type": "code",
   "execution_count": 47,
   "metadata": {},
   "outputs": [],
   "source": [
    "jAwDfHigh = jAwDf[jAwDf['wazersPart'] == 1]"
   ]
  },
  {
   "cell_type": "code",
   "execution_count": 48,
   "metadata": {},
   "outputs": [
    {
     "data": {
      "image/png": "[encoded data removed]",
      "text/plain": [
       "<Figure size 720x720 with 4 Axes>"
      ]
     },
     "metadata": {
      "needs_background": "light"
     },
     "output_type": "display_data"
    }
   ],
   "source": [
    "jAwDfHigh.hist(column = ['jamsCount','alertsCount','wazers'],bins = 50,figsize = (10,10));"
   ]
  },
  {
   "cell_type": "code",
   "execution_count": 49,
   "metadata": {
    "scrolled": true
   },
   "outputs": [
    {
     "data": {
      "text/plain": [
       "ShapiroResult(statistic=0.9693310856819153, pvalue=8.438973668088365e-14)"
      ]
     },
     "execution_count": 49,
     "metadata": {},
     "output_type": "execute_result"
    }
   ],
   "source": [
    "shapiro(jAwDfHigh['wazers'])"
   ]
  },
  {
   "cell_type": "code",
   "execution_count": 50,
   "metadata": {},
   "outputs": [
    {
     "data": {
      "text/plain": [
       "3.645201913533496e-128"
      ]
     },
     "execution_count": 50,
     "metadata": {},
     "output_type": "execute_result"
    }
   ],
   "source": [
    "r_valueH, p_valueH = pearsonr(jAwDfHigh['wazers'],jAwDfHigh['jamsCount'])\n",
    "p_valueH"
   ]
  },
  {
   "cell_type": "code",
   "execution_count": 51,
   "metadata": {
    "scrolled": true
   },
   "outputs": [
    {
     "data": {
      "text/html": [
       "<div>\n",
       "<style scoped>\n",
       "    .dataframe tbody tr th:only-of-type {\n",
       "        vertical-align: middle;\n",
       "    }\n",
       "\n",
       "    .dataframe tbody tr th {\n",
       "        vertical-align: top;\n",
       "    }\n",
       "\n",
       "    .dataframe thead th {\n",
       "        text-align: right;\n",
       "    }\n",
       "</style>\n",
       "<table border=\"1\" class=\"dataframe\">\n",
       "  <thead>\n",
       "    <tr style=\"text-align: right;\">\n",
       "      <th></th>\n",
       "      <th>hour</th>\n",
       "      <th>day</th>\n",
       "      <th>jamsCount</th>\n",
       "      <th>alertsCount</th>\n",
       "      <th>wazers</th>\n",
       "      <th>dayPart</th>\n",
       "      <th>wazersPart</th>\n",
       "    </tr>\n",
       "  </thead>\n",
       "  <tbody>\n",
       "    <tr>\n",
       "      <th>hour</th>\n",
       "      <td>1.000000</td>\n",
       "      <td>0.137064</td>\n",
       "      <td>-0.313716</td>\n",
       "      <td>-0.341970</td>\n",
       "      <td>-0.143510</td>\n",
       "      <td>NaN</td>\n",
       "      <td>NaN</td>\n",
       "    </tr>\n",
       "    <tr>\n",
       "      <th>day</th>\n",
       "      <td>0.137064</td>\n",
       "      <td>1.000000</td>\n",
       "      <td>-0.528606</td>\n",
       "      <td>-0.439720</td>\n",
       "      <td>-0.104159</td>\n",
       "      <td>NaN</td>\n",
       "      <td>NaN</td>\n",
       "    </tr>\n",
       "    <tr>\n",
       "      <th>jamsCount</th>\n",
       "      <td>-0.313716</td>\n",
       "      <td>-0.528606</td>\n",
       "      <td>1.000000</td>\n",
       "      <td>0.874074</td>\n",
       "      <td>0.667372</td>\n",
       "      <td>NaN</td>\n",
       "      <td>NaN</td>\n",
       "    </tr>\n",
       "    <tr>\n",
       "      <th>alertsCount</th>\n",
       "      <td>-0.341970</td>\n",
       "      <td>-0.439720</td>\n",
       "      <td>0.874074</td>\n",
       "      <td>1.000000</td>\n",
       "      <td>0.759523</td>\n",
       "      <td>NaN</td>\n",
       "      <td>NaN</td>\n",
       "    </tr>\n",
       "    <tr>\n",
       "      <th>wazers</th>\n",
       "      <td>-0.143510</td>\n",
       "      <td>-0.104159</td>\n",
       "      <td>0.667372</td>\n",
       "      <td>0.759523</td>\n",
       "      <td>1.000000</td>\n",
       "      <td>NaN</td>\n",
       "      <td>NaN</td>\n",
       "    </tr>\n",
       "    <tr>\n",
       "      <th>dayPart</th>\n",
       "      <td>NaN</td>\n",
       "      <td>NaN</td>\n",
       "      <td>NaN</td>\n",
       "      <td>NaN</td>\n",
       "      <td>NaN</td>\n",
       "      <td>NaN</td>\n",
       "      <td>NaN</td>\n",
       "    </tr>\n",
       "    <tr>\n",
       "      <th>wazersPart</th>\n",
       "      <td>NaN</td>\n",
       "      <td>NaN</td>\n",
       "      <td>NaN</td>\n",
       "      <td>NaN</td>\n",
       "      <td>NaN</td>\n",
       "      <td>NaN</td>\n",
       "      <td>NaN</td>\n",
       "    </tr>\n",
       "  </tbody>\n",
       "</table>\n",
       "</div>"
      ],
      "text/plain": [
       "                 hour       day  jamsCount  alertsCount    wazers  dayPart  \\\n",
       "hour         1.000000  0.137064  -0.313716    -0.341970 -0.143510      NaN   \n",
       "day          0.137064  1.000000  -0.528606    -0.439720 -0.104159      NaN   \n",
       "jamsCount   -0.313716 -0.528606   1.000000     0.874074  0.667372      NaN   \n",
       "alertsCount -0.341970 -0.439720   0.874074     1.000000  0.759523      NaN   \n",
       "wazers      -0.143510 -0.104159   0.667372     0.759523  1.000000      NaN   \n",
       "dayPart           NaN       NaN        NaN          NaN       NaN      NaN   \n",
       "wazersPart        NaN       NaN        NaN          NaN       NaN      NaN   \n",
       "\n",
       "             wazersPart  \n",
       "hour                NaN  \n",
       "day                 NaN  \n",
       "jamsCount           NaN  \n",
       "alertsCount         NaN  \n",
       "wazers              NaN  \n",
       "dayPart             NaN  \n",
       "wazersPart          NaN  "
      ]
     },
     "execution_count": 51,
     "metadata": {},
     "output_type": "execute_result"
    }
   ],
   "source": [
    "jAwDfHigh.corr(method=\"spearman\")"
   ]
  },
  {
   "cell_type": "code",
   "execution_count": 52,
   "metadata": {},
   "outputs": [
    {
     "data": {
      "image/png": "[encoded data removed]",
      "text/plain": [
       "<Figure size 720x720 with 4 Axes>"
      ]
     },
     "metadata": {
      "needs_background": "light"
     },
     "output_type": "display_data"
    }
   ],
   "source": [
    "jAwDfLow.hist(column = ['jamsCount','alertsCount','wazers'],bins = 50,figsize = (10,10));"
   ]
  }
 ],
 "metadata": {
  "kernelspec": {
   "display_name": "Python 3",
   "language": "python",
   "name": "python3"
  },
  "language_info": {
   "codemirror_mode": {
    "name": "ipython",
    "version": 3
   },
   "file_extension": ".py",
   "mimetype": "text/x-python",
   "name": "python",
   "nbconvert_exporter": "python",
   "pygments_lexer": "ipython3",
   "version": "3.8.5"
  }
 },
 "nbformat": 4,
 "nbformat_minor": 4
}
